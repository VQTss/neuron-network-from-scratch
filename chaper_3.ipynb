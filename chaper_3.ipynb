{
 "cells": [
  {
   "cell_type": "markdown",
   "id": "e91aad2b",
   "metadata": {},
   "source": [
    "## Adding Layers"
   ]
  },
  {
   "cell_type": "code",
   "execution_count": 1,
   "id": "b2698ebd",
   "metadata": {},
   "outputs": [],
   "source": [
    "import numpy as np"
   ]
  },
  {
   "cell_type": "code",
   "execution_count": 2,
   "id": "75967a1f",
   "metadata": {},
   "outputs": [],
   "source": [
    "inputs = [[1, 2, 3, 2.5], [2., 5., -1., 2], [-1.5, 2.7, 3.3, -0.8]]\n",
    "weights = [[0.2, 0.8, -0.5, 1],\n",
    "            [0.5, -0.91, 0.26, -0.5],\n",
    "            [-0.26, -0.27, 0.17, 0.87]]\n",
    "biases = [2, 3, 0.5]\n",
    "weights2 = [[0.1, -0.14, 0.5],\n",
    "            [-0.5, 0.12, -0.33],\n",
    "            [-0.44, 0.73, -0.13]]\n",
    "biases2 = [-1, 2, -0.5]"
   ]
  },
  {
   "cell_type": "code",
   "execution_count": 3,
   "id": "26df8f44",
   "metadata": {},
   "outputs": [],
   "source": [
    "layer1_output = np.dot(inputs,np.array(weights).T) + biases"
   ]
  },
  {
   "cell_type": "code",
   "execution_count": 4,
   "id": "d04eeb5b",
   "metadata": {},
   "outputs": [
    {
     "data": {
      "text/plain": [
       "array([[ 4.8  ,  1.21 ,  2.385],\n",
       "       [ 8.9  , -1.81 ,  0.2  ],\n",
       "       [ 1.41 ,  1.051,  0.026]])"
      ]
     },
     "execution_count": 4,
     "metadata": {},
     "output_type": "execute_result"
    }
   ],
   "source": [
    "layer1_output"
   ]
  },
  {
   "cell_type": "code",
   "execution_count": 5,
   "id": "b797b02b",
   "metadata": {},
   "outputs": [],
   "source": [
    "layer2_output = np.dot(layer1_output, np.array(weights2).T) + biases2"
   ]
  },
  {
   "cell_type": "code",
   "execution_count": 6,
   "id": "246ae2c0",
   "metadata": {},
   "outputs": [
    {
     "data": {
      "text/plain": [
       "array([[ 0.5031 , -1.04185, -2.03875],\n",
       "       [ 0.2434 , -2.7332 , -5.7633 ],\n",
       "       [-0.99314,  1.41254, -0.35655]])"
      ]
     },
     "execution_count": 6,
     "metadata": {},
     "output_type": "execute_result"
    }
   ],
   "source": [
    "layer2_output"
   ]
  },
  {
   "cell_type": "markdown",
   "id": "6546b0f8",
   "metadata": {},
   "source": [
    "<img src='./assets/two_hidden_3_neuron.png' width=800 />"
   ]
  },
  {
   "cell_type": "markdown",
   "id": "8c430907",
   "metadata": {},
   "source": [
    "## Training Data"
   ]
  },
  {
   "cell_type": "markdown",
   "id": "c3ebc36f",
   "metadata": {},
   "source": [
    "Linear data can be fit with or represented by a straight line"
   ]
  },
  {
   "cell_type": "markdown",
   "id": "999e3b08",
   "metadata": {},
   "source": [
    "<img src='./assets/training_data_1.png' width=800 />"
   ]
  },
  {
   "cell_type": "markdown",
   "id": "0f6fbf55",
   "metadata": {},
   "source": [
    "Non-linear data cannot be represented well by a straight line."
   ]
  },
  {
   "cell_type": "markdown",
   "id": "edd5f5b7",
   "metadata": {},
   "source": [
    "<img src='./assets/non-linear_data.png' width=800 />"
   ]
  },
  {
   "cell_type": "markdown",
   "id": "f9a9b893",
   "metadata": {},
   "source": [
    "### Example CS231n\n",
    "https://cs231n.github.io/neural-networks-case-study/"
   ]
  },
  {
   "cell_type": "code",
   "execution_count": 10,
   "id": "ff5cc0db",
   "metadata": {},
   "outputs": [],
   "source": [
    "# Generating some data\n",
    "N = 100 # number of points of class\n",
    "D = 2 # dimensionality\n",
    "K =  3 # number of classes"
   ]
  },
  {
   "cell_type": "markdown",
   "id": "ee9a0519",
   "metadata": {},
   "source": [
    "https://numpy.org/devdocs/reference/generated/numpy.zeros.html"
   ]
  },
  {
   "cell_type": "markdown",
   "id": "7a5fb1df",
   "metadata": {},
   "source": [
    "https://numpy.org/doc/stable/user/basics.types.html"
   ]
  },
  {
   "cell_type": "code",
   "execution_count": 11,
   "id": "5f1e2766",
   "metadata": {},
   "outputs": [],
   "source": [
    "X = np.zeros((N * K, D))  # data matrix (each row = single example)\n",
    "Y = np.zeros(N*K, dtype='uint8')"
   ]
  },
  {
   "cell_type": "code",
   "execution_count": 13,
   "id": "38099f50",
   "metadata": {},
   "outputs": [
    {
     "data": {
      "text/plain": [
       "(300, 2)"
      ]
     },
     "execution_count": 13,
     "metadata": {},
     "output_type": "execute_result"
    }
   ],
   "source": [
    "X.shape"
   ]
  },
  {
   "cell_type": "code",
   "execution_count": 14,
   "id": "e8952db9",
   "metadata": {},
   "outputs": [
    {
     "data": {
      "text/plain": [
       "(300,)"
      ]
     },
     "execution_count": 14,
     "metadata": {},
     "output_type": "execute_result"
    }
   ],
   "source": [
    "Y.shape"
   ]
  },
  {
   "cell_type": "markdown",
   "id": "884db68a",
   "metadata": {},
   "source": [
    "https://numpy.org/doc/stable/reference/generated/numpy.linspace.html"
   ]
  },
  {
   "cell_type": "code",
   "execution_count": 16,
   "id": "00965a54",
   "metadata": {},
   "outputs": [],
   "source": [
    "for j in range(K):\n",
    "  ix = range(N*j,N*(j+1))\n",
    "  r = np.linspace(0.0,1,N) # radius\n",
    "  t = np.linspace(j*4,(j+1)*4,N) + np.random.randn(N)*0.2 # theta\n",
    "  X[ix] = np.c_[r*np.sin(t), r*np.cos(t)]\n",
    "  Y[ix] = j"
   ]
  },
  {
   "cell_type": "code",
   "execution_count": 17,
   "id": "a5504cc2",
   "metadata": {},
   "outputs": [
    {
     "name": "stderr",
     "output_type": "stream",
     "text": [
      "Matplotlib is building the font cache; this may take a moment.\n"
     ]
    }
   ],
   "source": [
    "import matplotlib.pyplot as plt"
   ]
  },
  {
   "cell_type": "code",
   "execution_count": 19,
   "id": "20aad698",
   "metadata": {},
   "outputs": [
    {
     "data": {
      "image/png": "[encoded data removed]",
      "text/plain": [
       "<Figure size 640x480 with 1 Axes>"
      ]
     },
     "metadata": {},
     "output_type": "display_data"
    }
   ],
   "source": [
    "# lets visualize the data:\n",
    "plt.scatter(X[:, 0], X[:, 1], c=Y, s=40, cmap=plt.cm.Spectral)\n",
    "plt.show()"
   ]
  },
  {
   "cell_type": "code",
   "execution_count": null,
   "id": "ebc8bcb0",
   "metadata": {},
   "outputs": [],
   "source": [
    "# lets visualize the data:\n",
    "plt.scatter(X[:, 0], X[:, 1], c=y, s=40, cmap=plt.cm.Spectral)\n",
    "plt.show()"
   ]
  },
  {
   "cell_type": "code",
   "execution_count": 8,
   "id": "8283f7e6",
   "metadata": {},
   "outputs": [],
   "source": [
    "from nnfs.datasets import spiral_data"
   ]
  },
  {
   "cell_type": "code",
   "execution_count": 9,
   "id": "fad26c3c",
   "metadata": {},
   "outputs": [
    {
     "data": {
      "text/plain": [
       "<function nnfs.datasets.spiral.create_data(samples, classes)>"
      ]
     },
     "execution_count": 9,
     "metadata": {},
     "output_type": "execute_result"
    }
   ],
   "source": [
    "spiral_data"
   ]
  },
  {
   "cell_type": "code",
   "execution_count": 20,
   "id": "d3421c4c",
   "metadata": {},
   "outputs": [],
   "source": [
    "import nnfs"
   ]
  },
  {
   "cell_type": "code",
   "execution_count": 21,
   "id": "e875c9c2",
   "metadata": {},
   "outputs": [],
   "source": [
    "nnfs.init()"
   ]
  },
  {
   "cell_type": "code",
   "execution_count": 23,
   "id": "1dba7367",
   "metadata": {},
   "outputs": [],
   "source": [
    "X,y = spiral_data(samples=100, classes=3)"
   ]
  },
  {
   "cell_type": "code",
   "execution_count": 27,
   "id": "4e7e544e",
   "metadata": {},
   "outputs": [
    {
     "data": {
      "text/plain": [
       "(300,)"
      ]
     },
     "execution_count": 27,
     "metadata": {},
     "output_type": "execute_result"
    }
   ],
   "source": [
    "X[:,0].shape"
   ]
  },
  {
   "cell_type": "code",
   "execution_count": 28,
   "id": "279749a8",
   "metadata": {},
   "outputs": [
    {
     "data": {
      "text/plain": [
       "(300,)"
      ]
     },
     "execution_count": 28,
     "metadata": {},
     "output_type": "execute_result"
    }
   ],
   "source": [
    "X[:,1].shape"
   ]
  },
  {
   "cell_type": "code",
   "execution_count": 29,
   "id": "ed8b02fc",
   "metadata": {},
   "outputs": [
    {
     "data": {
      "text/plain": [
       "array([0, 0, 0, 0, 0, 0, 0, 0, 0, 0, 0, 0, 0, 0, 0, 0, 0, 0, 0, 0, 0, 0,\n",
       "       0, 0, 0, 0, 0, 0, 0, 0, 0, 0, 0, 0, 0, 0, 0, 0, 0, 0, 0, 0, 0, 0,\n",
       "       0, 0, 0, 0, 0, 0, 0, 0, 0, 0, 0, 0, 0, 0, 0, 0, 0, 0, 0, 0, 0, 0,\n",
       "       0, 0, 0, 0, 0, 0, 0, 0, 0, 0, 0, 0, 0, 0, 0, 0, 0, 0, 0, 0, 0, 0,\n",
       "       0, 0, 0, 0, 0, 0, 0, 0, 0, 0, 0, 0, 1, 1, 1, 1, 1, 1, 1, 1, 1, 1,\n",
       "       1, 1, 1, 1, 1, 1, 1, 1, 1, 1, 1, 1, 1, 1, 1, 1, 1, 1, 1, 1, 1, 1,\n",
       "       1, 1, 1, 1, 1, 1, 1, 1, 1, 1, 1, 1, 1, 1, 1, 1, 1, 1, 1, 1, 1, 1,\n",
       "       1, 1, 1, 1, 1, 1, 1, 1, 1, 1, 1, 1, 1, 1, 1, 1, 1, 1, 1, 1, 1, 1,\n",
       "       1, 1, 1, 1, 1, 1, 1, 1, 1, 1, 1, 1, 1, 1, 1, 1, 1, 1, 1, 1, 1, 1,\n",
       "       1, 1, 2, 2, 2, 2, 2, 2, 2, 2, 2, 2, 2, 2, 2, 2, 2, 2, 2, 2, 2, 2,\n",
       "       2, 2, 2, 2, 2, 2, 2, 2, 2, 2, 2, 2, 2, 2, 2, 2, 2, 2, 2, 2, 2, 2,\n",
       "       2, 2, 2, 2, 2, 2, 2, 2, 2, 2, 2, 2, 2, 2, 2, 2, 2, 2, 2, 2, 2, 2,\n",
       "       2, 2, 2, 2, 2, 2, 2, 2, 2, 2, 2, 2, 2, 2, 2, 2, 2, 2, 2, 2, 2, 2,\n",
       "       2, 2, 2, 2, 2, 2, 2, 2, 2, 2, 2, 2, 2, 2], dtype=uint8)"
      ]
     },
     "execution_count": 29,
     "metadata": {},
     "output_type": "execute_result"
    }
   ],
   "source": [
    "y"
   ]
  },
  {
   "cell_type": "code",
   "execution_count": 24,
   "id": "640c7b3e",
   "metadata": {},
   "outputs": [
    {
     "data": {
      "text/plain": [
       "<function matplotlib.pyplot.show(close=None, block=None)>"
      ]
     },
     "execution_count": 24,
     "metadata": {},
     "output_type": "execute_result"
    },
    {
     "data": {
      "image/png": "[encoded data removed]",
      "text/plain": [
       "<Figure size 640x480 with 1 Axes>"
      ]
     },
     "metadata": {},
     "output_type": "display_data"
    }
   ],
   "source": [
    "plt.scatter(X[:,0],X[:,1])\n",
    "plt.show"
   ]
  },
  {
   "cell_type": "code",
   "execution_count": 31,
   "id": "19de78bc",
   "metadata": {},
   "outputs": [
    {
     "data": {
      "text/plain": [
       "<function matplotlib.pyplot.show(close=None, block=None)>"
      ]
     },
     "execution_count": 31,
     "metadata": {},
     "output_type": "execute_result"
    },
    {
     "data": {
      "image/png": "[encoded data removed]",
      "text/plain": [
       "<Figure size 640x480 with 1 Axes>"
      ]
     },
     "metadata": {},
     "output_type": "display_data"
    }
   ],
   "source": [
    "plt.scatter(X[:,0],X[:,1],c=y,cmap='brg')\n",
    "plt.show"
   ]
  },
  {
   "cell_type": "markdown",
   "id": "a8a490de",
   "metadata": {},
   "source": [
    "## Dense Layer Class"
   ]
  },
  {
   "cell_type": "code",
   "execution_count": null,
   "id": "b73a379a",
   "metadata": {},
   "outputs": [],
   "source": [
    "import numpy as np\n",
    "import nnfs\n",
    "\n",
    "nnfs.init()"
   ]
  },
  {
   "cell_type": "markdown",
   "id": "d8e535c9",
   "metadata": {},
   "source": [
    "https://numpy.org/doc/2.2/reference/random/generated/numpy.random.randn.html"
   ]
  },
  {
   "cell_type": "code",
   "execution_count": 4,
   "id": "8bbf3fcd",
   "metadata": {},
   "outputs": [
    {
     "name": "stdout",
     "output_type": "stream",
     "text": [
      "[[0.5488135  0.71518937 0.60276338 0.54488318 0.4236548 ]\n",
      " [0.64589411 0.43758721 0.891773   0.96366276 0.38344152]]\n"
     ]
    }
   ],
   "source": [
    "print(np.random.rand(2,5))"
   ]
  },
  {
   "cell_type": "code",
   "execution_count": 6,
   "id": "a6b16dfc",
   "metadata": {},
   "outputs": [
    {
     "data": {
      "text/plain": [
       "array([[0., 0., 0., 0., 0.],\n",
       "       [0., 0., 0., 0., 0.]], dtype=float32)"
      ]
     },
     "execution_count": 6,
     "metadata": {},
     "output_type": "execute_result"
    }
   ],
   "source": [
    "np.zeros((2,5))"
   ]
  },
  {
   "cell_type": "code",
   "execution_count": 7,
   "id": "a34f34e8",
   "metadata": {},
   "outputs": [],
   "source": [
    "n_inputs = 2\n",
    "n_neurons = 4"
   ]
  },
  {
   "cell_type": "code",
   "execution_count": 8,
   "id": "18a24c4d",
   "metadata": {},
   "outputs": [],
   "source": [
    "weights = 0.01 * np.random.rand(n_inputs,n_neurons)\n",
    "biases = np.zeros((1, n_neurons))"
   ]
  },
  {
   "cell_type": "code",
   "execution_count": 9,
   "id": "567e9b1e",
   "metadata": {},
   "outputs": [
    {
     "data": {
      "text/plain": [
       "array([[0.00791725, 0.00528895, 0.00568045, 0.00925597],\n",
       "       [0.00071036, 0.00087129, 0.00020218, 0.0083262 ]])"
      ]
     },
     "execution_count": 9,
     "metadata": {},
     "output_type": "execute_result"
    }
   ],
   "source": [
    "weights"
   ]
  },
  {
   "cell_type": "code",
   "execution_count": 10,
   "id": "4b19c2b3",
   "metadata": {},
   "outputs": [
    {
     "data": {
      "text/plain": [
       "array([[0., 0., 0., 0.]], dtype=float32)"
      ]
     },
     "execution_count": 10,
     "metadata": {},
     "output_type": "execute_result"
    }
   ],
   "source": [
    "biases"
   ]
  },
  {
   "cell_type": "code",
   "execution_count": 28,
   "id": "576ad758",
   "metadata": {},
   "outputs": [],
   "source": [
    "class Layer_Dense:\n",
    "    def __init__(self,n_inputs,n_neurons):\n",
    "        self.weights = 0.01 * np.random.randn(n_inputs,n_neurons)\n",
    "        self.biases =  np.zeros((1,n_neurons))\n",
    "\n",
    "    def forward(self, inputs):\n",
    "        self.output = np.dot(inputs,self.weights) + self.biases\n",
    "        \n"
   ]
  },
  {
   "cell_type": "code",
   "execution_count": 13,
   "id": "5ed5b4ce",
   "metadata": {},
   "outputs": [],
   "source": [
    "from nnfs.datasets import spiral_data"
   ]
  },
  {
   "cell_type": "code",
   "execution_count": 30,
   "id": "a74e7473",
   "metadata": {},
   "outputs": [],
   "source": [
    "# Create dataset\n",
    "X, y = spiral_data(samples=100, classes=3)"
   ]
  },
  {
   "cell_type": "code",
   "execution_count": 18,
   "id": "237f6398",
   "metadata": {},
   "outputs": [
    {
     "data": {
      "text/plain": [
       "dtype('float32')"
      ]
     },
     "execution_count": 18,
     "metadata": {},
     "output_type": "execute_result"
    }
   ],
   "source": [
    "X.dtype"
   ]
  },
  {
   "cell_type": "code",
   "execution_count": 31,
   "id": "64855a6c",
   "metadata": {},
   "outputs": [],
   "source": [
    "# Create Dense layer with 2 input features and 3 output values\n",
    "dense1 = Layer_Dense(2, 3)"
   ]
  },
  {
   "cell_type": "code",
   "execution_count": 32,
   "id": "348047f1",
   "metadata": {},
   "outputs": [],
   "source": [
    "# Perform a forward pass of our training data through this layer\n",
    "dense1.forward(X)"
   ]
  },
  {
   "cell_type": "code",
   "execution_count": 33,
   "id": "c293851d",
   "metadata": {},
   "outputs": [
    {
     "data": {
      "text/plain": [
       "array([[ 0.00000000e+00,  0.00000000e+00,  0.00000000e+00],\n",
       "       [-4.96672874e-05, -2.45339561e-05, -1.11310779e-04],\n",
       "       [-1.20988580e-05, -9.71509144e-05, -2.48673110e-04],\n",
       "       [-1.19760698e-04, -9.60981197e-05, -3.58165911e-04],\n",
       "       [-1.67752762e-04, -1.22451136e-04, -4.72153566e-04],\n",
       "       [-2.66555380e-05, -2.44010342e-04, -6.20698091e-04],\n",
       "       [ 4.79683877e-05, -3.12974415e-04, -7.10617518e-04],\n",
       "       [ 5.17552777e-04, -1.91324565e-04,  7.37259616e-05],\n",
       "       [ 2.12694140e-05, -4.08071646e-04, -9.69495450e-04],\n",
       "       [ 5.51975332e-04, -4.05460451e-04, -4.10807668e-04],\n",
       "       [ 6.14578777e-04, -4.49619838e-04, -4.52961161e-04],\n",
       "       [ 7.92703286e-05, -5.72090910e-04, -1.30770390e-03],\n",
       "       [ 8.29871162e-04, -4.50151798e-04, -2.30184130e-04],\n",
       "       [ 2.88439333e-04, -7.01180135e-04, -1.40369963e-03],\n",
       "       [-3.45106702e-04, -5.74239239e-04, -1.75460300e-03],\n",
       "       [ 1.10590132e-03, -4.21905512e-04,  1.25739360e-04],\n",
       "       [ 3.74420080e-04, -8.63944297e-04, -1.70973758e-03],\n",
       "       [ 1.27078989e-03, -3.77089222e-04,  4.06255858e-04],\n",
       "       [ 1.17250660e-03, -7.55897549e-04, -6.16555219e-04],\n",
       "       [ 1.03266933e-03,  3.84680578e-04,  2.00956129e-03],\n",
       "       [ 1.26540835e-03,  2.03427422e-04,  1.81133579e-03],\n",
       "       [ 1.56432821e-03, -5.15100139e-04,  3.76388809e-04],\n",
       "       [ 1.63603283e-03, -5.56752202e-04,  3.49800626e-04],\n",
       "       [ 1.65673101e-03, -7.51855550e-04, -1.02767088e-04],\n",
       "       [ 1.75564596e-03, -2.08680998e-04,  1.32011855e-03],\n",
       "       [ 1.72758428e-03,  2.67929663e-05,  1.86312490e-03],\n",
       "       [ 1.74964219e-03,  1.10490873e-04,  2.08947179e-03],\n",
       "       [ 1.38646131e-03,  6.22448919e-04,  2.95556476e-03],\n",
       "       [ 9.00607323e-04,  1.03473442e-03,  3.45177460e-03],\n",
       "       [ 9.58992750e-04,  1.05622178e-03,  3.56475567e-03],\n",
       "       [ 1.77748408e-03,  4.53011744e-04,  2.95078941e-03],\n",
       "       [ 2.11704988e-03,  7.90373015e-05,  2.39542476e-03],\n",
       "       [-8.27489130e-04,  1.73022656e-03,  3.34330113e-03],\n",
       "       [ 1.33934710e-03,  1.04184041e-03,  3.92566947e-03],\n",
       "       [ 1.11502176e-03,  1.24385976e-03,  4.18311451e-03],\n",
       "       [ 7.41568801e-04,  1.49385014e-03,  4.40192362e-03],\n",
       "       [ 2.01871409e-03,  6.66823005e-04,  3.72142508e-03],\n",
       "       [ 1.75453431e-04,  1.81242405e-03,  4.58687637e-03],\n",
       "       [-1.04532723e-04,  1.93918077e-03,  4.60350001e-03],\n",
       "       [-1.85289781e-03,  2.00638431e-03,  2.94716237e-03],\n",
       "       [-2.20470061e-03,  1.94454007e-03,  2.43073283e-03],\n",
       "       [-1.68544485e-03,  2.16991454e-03,  3.51882842e-03],\n",
       "       [-2.86462880e-03,  1.62706152e-03,  9.72412759e-04],\n",
       "       [-2.62070284e-03,  1.94857013e-03,  2.00756383e-03],\n",
       "       [-2.52708839e-03,  2.08767597e-03,  2.44302815e-03],\n",
       "       [-2.94468296e-03,  1.87718344e-03,  1.49690243e-03],\n",
       "       [-2.87689571e-03,  2.03182595e-03,  1.94324134e-03],\n",
       "       [-2.93733343e-03,  2.07759067e-03,  1.99154951e-03],\n",
       "       [-3.28306807e-03,  1.84810557e-03,  1.07406080e-03],\n",
       "       [-2.69045681e-03,  2.38685240e-03,  3.00001097e-03],\n",
       "       [-3.73566919e-03,  8.40663793e-04, -1.84512010e-03],\n",
       "       [-3.38967075e-03,  2.07561743e-03,  1.51597615e-03],\n",
       "       [-3.33641120e-03, -4.66057740e-04, -4.60497569e-03],\n",
       "       [-3.94816417e-03,  7.86740391e-04, -2.19731475e-03],\n",
       "       [-3.80087923e-03,  8.04670708e-05, -3.76030034e-03],\n",
       "       [-3.22664925e-03, -8.66585935e-04, -5.46403974e-03],\n",
       "       [-2.77972524e-03, -1.37531571e-03, -6.23513060e-03],\n",
       "       [-4.21116408e-03,  1.57057552e-03, -5.66282950e-04],\n",
       "       [-3.52637586e-03, -7.70831190e-04, -5.54329762e-03],\n",
       "       [-1.32047548e-03, -2.48519727e-03, -7.41344877e-03],\n",
       "       [-4.47639683e-03,  9.44348401e-04, -2.36408855e-03],\n",
       "       [-1.55737321e-03, -2.47500511e-03, -7.63523765e-03],\n",
       "       [-4.64005768e-03,  1.21879461e-03, -1.86750561e-03],\n",
       "       [-3.54533130e-03, -1.15400297e-03, -6.49415003e-03],\n",
       "       [-1.04256265e-03, -2.86897947e-03, -8.05681385e-03],\n",
       "       [-4.00193222e-03, -8.02954892e-04, -6.11630408e-03],\n",
       "       [-2.49479688e-03, -2.20832601e-03, -7.96283688e-03],\n",
       "       [-3.12017067e-03, -1.81586016e-03, -7.65999826e-03],\n",
       "       [ 4.25286917e-03, -3.00351833e-03, -2.87242536e-03],\n",
       "       [ 1.76307501e-03, -3.73041513e-03, -7.23011838e-03],\n",
       "       [ 3.17448121e-03, -3.64173460e-03, -5.54567203e-03],\n",
       "       [ 1.85690669e-03, -3.83925228e-03, -7.39694014e-03],\n",
       "       [ 2.06172210e-03, -3.89324990e-03, -7.31499074e-03],\n",
       "       [-7.50914682e-04, -3.44144227e-03, -9.14438441e-03],\n",
       "       [ 3.24235391e-03, -3.87648214e-03, -6.04547886e-03],\n",
       "       [ 2.64967559e-03, -4.02824860e-03, -7.03111989e-03],\n",
       "       [ 5.60732046e-03, -2.12277472e-03,  6.77491305e-04],\n",
       "       [ 5.74683258e-03, -1.23109145e-03,  2.98952102e-03],\n",
       "       [ 5.50741795e-03, -1.53368193e-04,  5.35926037e-03],\n",
       "       [ 5.86099550e-03, -1.02540548e-03,  3.60816438e-03],\n",
       "       [ 5.27506741e-03, -3.29842395e-03, -2.52518617e-03],\n",
       "       [ 4.82474267e-03, -3.74322687e-03, -4.07476164e-03],\n",
       "       [ 5.67141268e-03,  7.85686861e-05,  6.09355792e-03],\n",
       "       [ 5.95621392e-03, -3.87607754e-04,  5.25714131e-03],\n",
       "       [ 4.91344230e-03, -3.93576967e-03, -4.45033330e-03],\n",
       "       [ 5.61459688e-03,  5.28205535e-04,  7.12706288e-03],\n",
       "       [ 4.39117104e-03,  2.00496428e-03,  9.44234803e-03],\n",
       "       [ 5.57398563e-03,  7.90921564e-04,  7.72320759e-03],\n",
       "       [ 5.70822041e-03,  7.01418321e-04,  7.64541840e-03],\n",
       "       [ 6.33938937e-03, -2.99998879e-04,  5.86883212e-03],\n",
       "       [ 6.70618797e-03, -1.34887337e-03,  3.70177370e-03],\n",
       "       [ 1.70410844e-03,  3.98486806e-03,  1.14569878e-02],\n",
       "       [ 4.47029108e-03,  2.34131352e-03,  1.03420364e-02],\n",
       "       [ 3.74282012e-03,  2.95815361e-03,  1.10838553e-02],\n",
       "       [-3.47311795e-03,  5.03249187e-03,  8.61446187e-03],\n",
       "       [-6.61912782e-04,  4.93624154e-03,  1.13063855e-02],\n",
       "       [-2.68684817e-04,  4.90008341e-03,  1.16277793e-02],\n",
       "       [-1.74460118e-04,  4.92749969e-03,  1.17924670e-02],\n",
       "       [-5.33238286e-03,  4.79578646e-03,  6.10419130e-03],\n",
       "       [-6.29321299e-03,  4.29273956e-03,  3.88176157e-03],\n",
       "       [ 0.00000000e+00,  0.00000000e+00,  0.00000000e+00],\n",
       "       [-3.89355810e-05,  5.32758240e-05,  8.89396324e-05],\n",
       "       [ 9.53064082e-05,  5.24513707e-05,  2.26651129e-04],\n",
       "       [-1.11542715e-04,  1.60528158e-04,  2.74000224e-04],\n",
       "       [-1.41944460e-04,  2.14778964e-04,  3.74190859e-04],\n",
       "       [-2.43077680e-04,  2.55574152e-04,  3.68068577e-04],\n",
       "       [-4.23604128e-04,  2.12117549e-04,  7.45807774e-05],\n",
       "       [ 2.54713668e-04,  2.40623092e-04,  8.49822885e-04],\n",
       "       [-3.75747331e-04,  4.12793481e-04,  6.12039934e-04],\n",
       "       [-6.27554778e-04,  3.30349576e-04,  1.49624146e-04],\n",
       "       [-6.00691652e-04,  4.58946859e-04,  4.90079517e-04],\n",
       "       [-4.35674621e-04,  5.84923371e-04,  9.67952656e-04],\n",
       "       [-8.74257996e-04,  9.27662186e-05, -6.84475002e-04],\n",
       "       [-9.72294598e-04,  2.33447645e-04, -4.44646430e-04],\n",
       "       [-9.25856119e-04,  5.74512989e-04,  4.32489003e-04],\n",
       "       [-1.08578848e-03,  9.50800895e-05, -8.99006613e-04],\n",
       "       [-9.80665674e-04, -2.03096977e-04, -1.51418138e-03],\n",
       "       [-1.21392182e-03,  6.45039836e-05, -1.10666512e-03],\n",
       "       [-9.35940945e-04, -4.04423656e-04, -1.95686589e-03],\n",
       "       [-1.21775689e-03, -1.72109838e-04, -1.68563856e-03],\n",
       "       [-1.37463666e-03, -3.52040479e-05, -1.51622714e-03],\n",
       "       [-1.55923073e-03,  2.79367727e-04, -9.43923777e-04],\n",
       "       [-1.18946587e-03, -4.51493630e-04, -2.33510905e-03],\n",
       "       [-9.23349464e-04, -7.33175024e-04, -2.74264137e-03],\n",
       "       [-2.22884031e-04, -1.13990007e-03, -3.00197792e-03],\n",
       "       [-9.27825517e-04, -8.47701856e-04, -3.02560511e-03],\n",
       "       [-2.55330611e-04, -1.23002566e-03, -3.25475656e-03],\n",
       "       [-1.36490620e-03, -6.41620078e-04, -2.97971745e-03],\n",
       "       [-1.09458563e-03, -9.12730815e-04, -3.35718715e-03],\n",
       "       [-2.43586925e-04, -1.38623640e-03, -3.62213328e-03],\n",
       "       [-1.04390737e-03, -1.06120482e-03, -3.66524118e-03],\n",
       "       [ 1.22226682e-03, -1.64927426e-03, -2.73571094e-03],\n",
       "       [ 1.10020512e-03, -1.72144303e-03, -3.03812232e-03],\n",
       "       [ 1.15426781e-03, -1.77351525e-03, -3.10839340e-03],\n",
       "       [ 1.47272612e-03, -1.78478239e-03, -2.80433125e-03],\n",
       "       [ 2.61922111e-03, -7.12204492e-04,  9.95316892e-04],\n",
       "       [ 1.08718185e-03, -1.94530911e-03, -3.59568093e-03],\n",
       "       [-9.49290523e-04, -1.49886380e-03, -4.63029742e-03],\n",
       "       [ 2.31570448e-03, -1.72217272e-03, -1.77484099e-03],\n",
       "       [ 2.33540218e-03, -1.79453974e-03, -1.93019526e-03],\n",
       "       [ 2.13717553e-03, -1.97455031e-03, -2.57393694e-03],\n",
       "       [ 1.89444341e-03, -2.12403294e-03, -3.18981474e-03],\n",
       "       [ 2.70480267e-03, -1.79163786e-03, -1.53868273e-03],\n",
       "       [ 3.19369650e-03, -1.10986072e-03,  6.26891153e-04],\n",
       "       [ 3.07681295e-03, -1.60206517e-03, -6.90835994e-04],\n",
       "       [ 1.23816694e-03,  1.77947292e-03,  5.61284367e-03],\n",
       "       [ 3.18261073e-03, -1.72362011e-03, -8.76108592e-04],\n",
       "       [ 3.44277848e-03, -1.39451015e-03,  1.94417386e-04],\n",
       "       [ 2.36224267e-03, -2.44442420e-03, -3.48150800e-03],\n",
       "       [ 3.18629504e-03,  3.79261561e-04,  4.23782039e-03],\n",
       "       [ 3.25651118e-03, -2.10013310e-03, -1.71413866e-03],\n",
       "       [ 3.61772603e-03, -1.37410098e-04,  3.43130599e-03],\n",
       "       [ 3.30275693e-03,  5.11949707e-04,  4.68146848e-03],\n",
       "       [ 3.58649762e-03,  1.92027001e-04,  4.19935118e-03],\n",
       "       [-7.86330202e-04,  2.87405774e-03,  6.16569771e-03],\n",
       "       [ 3.10103089e-04,  2.67881597e-03,  6.83238637e-03],\n",
       "       [-7.83167547e-04,  2.97619379e-03,  6.41718507e-03],\n",
       "       [ 3.09499074e-03,  1.15698087e-03,  6.03268575e-03],\n",
       "       [-1.26085989e-03,  3.12684057e-03,  6.28609583e-03],\n",
       "       [-3.50379647e-04,  3.05316271e-03,  7.05465535e-03],\n",
       "       [-1.40462769e-03,  3.23981466e-03,  6.41099829e-03],\n",
       "       [-2.37907679e-03,  3.24924034e-03,  5.41972648e-03],\n",
       "       [ 1.45924499e-03,  2.57711182e-03,  7.78123271e-03],\n",
       "       [-1.09922672e-04,  3.19949398e-03,  7.66050629e-03],\n",
       "       [-3.32668098e-03,  3.19668907e-03,  4.30578692e-03],\n",
       "       [ 3.78109771e-03,  1.05971843e-03,  6.51041325e-03],\n",
       "       [-4.75298846e-03,  2.15984695e-03,  3.01758089e-04],\n",
       "       [-3.97742540e-03,  3.10451072e-03,  3.40451440e-03],\n",
       "       [-3.34676891e-03,  3.46285081e-03,  4.93166456e-03],\n",
       "       [-4.20580339e-03,  3.12644267e-03,  3.22012161e-03],\n",
       "       [-2.17235740e-03,  3.78036336e-03,  6.92552561e-03],\n",
       "       [-4.05650353e-03,  3.38016218e-03,  3.99205787e-03],\n",
       "       [-5.34715364e-03,  9.64691280e-04, -3.22091137e-03],\n",
       "       [-5.17941359e-03,  1.99177259e-04, -4.90656542e-03],\n",
       "       [-2.39340612e-03, -2.72691040e-03, -9.11749527e-03],\n",
       "       [-5.54114860e-03,  2.06598639e-03, -7.46620528e-04],\n",
       "       [-5.34012308e-03,  2.72788433e-03,  1.07104203e-03],\n",
       "       [-5.67131257e-03,  2.18571443e-03, -5.91146003e-04],\n",
       "       [-5.52405743e-03,  2.72869272e-03,  8.81573302e-04],\n",
       "       [-5.74018806e-03,  5.63811627e-04, -4.60412493e-03],\n",
       "       [-5.03020035e-03, -8.55119957e-04, -7.31325755e-03],\n",
       "       [-5.41635929e-03, -4.00168938e-04, -6.60960888e-03],\n",
       "       [-2.60700495e-03, -3.04803997e-03, -1.01201618e-02],\n",
       "       [-5.23709459e-03, -8.63219670e-04, -7.54826935e-03],\n",
       "       [-5.14494488e-03, -1.07060140e-03, -7.95630924e-03],\n",
       "       [-5.26365219e-03, -1.01218466e-03, -7.93790072e-03],\n",
       "       [-6.34170230e-03,  9.36183787e-04, -4.32528183e-03],\n",
       "       [-6.21048734e-03,  3.25454166e-04, -5.67281712e-03],\n",
       "       [-5.43427281e-03, -1.06686680e-03, -8.24835803e-03],\n",
       "       [ 2.41396017e-03, -4.81327344e-03, -9.18408949e-03],\n",
       "       [ 1.78870349e-03, -4.84033255e-03, -9.90059227e-03],\n",
       "       [ 3.89949977e-03, -4.78575425e-03, -7.57111330e-03],\n",
       "       [-4.12801653e-03, -2.61592236e-03, -1.06531195e-02],\n",
       "       [-5.27524110e-03, -1.66026794e-03, -9.52483341e-03],\n",
       "       [-7.36143673e-04, -4.51134844e-03, -1.17289312e-02],\n",
       "       [ 2.86083273e-03, -5.13371406e-03, -9.49768256e-03],\n",
       "       [ 4.49839979e-03, -4.95644845e-03, -7.36259110e-03],\n",
       "       [ 6.30500074e-03, -4.08586906e-03, -3.36678978e-03],\n",
       "       [ 5.11290459e-03, -4.88759764e-03, -6.55572210e-03],\n",
       "       [ 7.40563311e-03, -1.80307764e-03,  3.32599808e-03],\n",
       "       [ 0.00000000e+00,  0.00000000e+00,  0.00000000e+00],\n",
       "       [ 2.73920123e-05, -5.40820329e-05, -1.02912942e-04],\n",
       "       [ 1.36999606e-05, -1.03873441e-04, -2.38158522e-04],\n",
       "       [ 1.24688144e-04, -1.58526935e-04, -2.55455816e-04],\n",
       "       [ 2.84587877e-04, -1.37653100e-04, -3.83127117e-05],\n",
       "       [ 2.66060029e-04, -2.47273943e-04, -3.23979388e-04],\n",
       "       [ 4.36813541e-04, -4.54030705e-05,  3.44290689e-04],\n",
       "       [ 4.40293748e-04,  7.46254227e-05,  6.39587292e-04],\n",
       "       [ 2.07285091e-04, -4.32563334e-04, -8.35411949e-04],\n",
       "       [ 5.90920157e-04,  6.13137890e-05,  7.64006807e-04],\n",
       "       [ 4.35177470e-04, -5.24501374e-04, -8.21641937e-04],\n",
       "       [ 7.33483990e-04,  5.76433704e-05,  9.03463573e-04],\n",
       "       [ 4.97257861e-04,  3.71645729e-04,  1.42064609e-03],\n",
       "       [ 8.51468649e-04,  9.16618228e-05,  1.10892474e-03],\n",
       "       [ 1.04545883e-03, -3.22852895e-04,  3.03534878e-04],\n",
       "       [ 1.04172970e-03,  6.18397371e-06,  1.09922769e-03],\n",
       "       [ 9.57024284e-04,  2.31244732e-04,  1.55797636e-03],\n",
       "       [ 8.99545266e-04,  3.67521570e-04,  1.82931277e-03],\n",
       "       [ 8.62274144e-04,  4.68349434e-04,  2.03553820e-03],\n",
       "       [ 7.39715586e-04,  6.21404441e-04,  2.27991352e-03],\n",
       "       [ 4.19980555e-04,  8.55370949e-04,  2.51569180e-03],\n",
       "       [ 1.22563622e-03,  3.37920210e-04,  2.09676567e-03],\n",
       "       [ 5.02482813e-04,  9.21861327e-04,  2.76313233e-03],\n",
       "       [-1.07028359e-03,  1.18951756e-03,  1.77666149e-03],\n",
       "       [ 3.20552761e-04,  1.10403972e-03,  3.01648653e-03],\n",
       "       [ 2.01698087e-04,  1.19783904e-03,  3.12072248e-03],\n",
       "       [-1.33206183e-03,  1.30595523e-03,  1.78715936e-03],\n",
       "       [ 1.65955827e-03,  3.36971745e-04,  2.54607340e-03],\n",
       "       [-1.77189719e-03,  1.22058648e-03,  1.12194230e-03],\n",
       "       [-4.35423834e-04,  1.54516473e-03,  3.30164237e-03],\n",
       "       [-1.44797412e-03,  1.53666525e-03,  2.22715689e-03],\n",
       "       [-1.61193544e-03,  1.54817512e-03,  2.08448037e-03],\n",
       "       [-2.30254093e-03,  1.05127064e-03,  1.58219831e-04],\n",
       "       [-1.75121892e-03,  1.63398602e-03,  2.14804267e-03],\n",
       "       [-1.60786731e-03,  1.75129704e-03,  2.58230953e-03],\n",
       "       [-2.56606471e-03,  3.24211549e-04, -1.88283308e-03],\n",
       "       [-1.15627241e-04,  1.84105802e-03,  4.35351068e-03],\n",
       "       [-2.69322004e-03,  1.14446529e-03, -2.19202866e-05],\n",
       "       [-1.94490957e-03,  1.90941920e-03,  2.61577009e-03],\n",
       "       [-2.66085635e-03,  1.50980800e-03,  8.99561681e-04],\n",
       "       [-1.45331665e-03, -1.37638638e-03, -4.85724676e-03],\n",
       "       [-3.03969346e-03,  5.21232316e-04, -1.89700245e-03],\n",
       "       [-2.94419075e-03,  3.73554358e-05, -2.97344825e-03],\n",
       "       [-2.77743931e-03,  1.82706024e-03,  1.54916267e-03],\n",
       "       [-3.27722356e-03,  6.49572234e-04, -1.83234492e-03],\n",
       "       [-2.65724328e-03, -6.89685228e-04, -4.44154302e-03],\n",
       "       [-2.29346706e-03, -1.12099235e-03, -5.11103077e-03],\n",
       "       [-1.67716423e-03, -1.63656054e-03, -5.72245475e-03],\n",
       "       [-2.31461762e-03, -1.23633409e-03, -5.41332923e-03],\n",
       "       [-1.22274901e-03, -2.00239313e-03, -6.13850262e-03],\n",
       "       [-1.01808377e-03, -2.15300941e-03, -6.29149750e-03],\n",
       "       [-3.69388680e-03,  3.29532544e-04, -3.04370583e-03],\n",
       "       [-1.08263246e-03, -2.22824956e-03, -6.54151477e-03],\n",
       "       [ 7.27859733e-04, -2.81491969e-03, -6.08284445e-03],\n",
       "       [ 7.89206475e-04, -2.87443306e-03, -6.16361666e-03],\n",
       "       [-7.34139234e-04, -2.53026909e-03, -6.91273436e-03],\n",
       "       [-1.23527937e-03, -2.36737612e-03, -7.03846896e-03],\n",
       "       [-1.48085423e-03, -2.29963334e-03, -7.12943776e-03],\n",
       "       [ 1.03230122e-03, -3.10857850e-03, -6.47959439e-03],\n",
       "       [ 3.65028391e-03, -2.63543287e-03, -2.60511413e-03],\n",
       "       [-2.02656887e-03, -2.15982250e-03, -7.35765463e-03],\n",
       "       [ 1.25605718e-03, -3.28396191e-03, -6.67290576e-03],\n",
       "       [ 6.46503991e-04, -3.26133263e-03, -7.25231972e-03],\n",
       "       [ 4.39988310e-03, -2.30214628e-03, -1.01505267e-03],\n",
       "       [ 2.83944444e-03, -3.34465969e-03, -5.17246313e-03],\n",
       "       [ 3.41215590e-03, -3.23352683e-03, -4.30634478e-03],\n",
       "       [ 4.17034607e-03, -2.88210157e-03, -2.66326498e-03],\n",
       "       [ 4.96974401e-03, -1.76139222e-03,  8.92097189e-04],\n",
       "       [ 4.57971683e-03, -2.70261895e-03, -1.80105364e-03],\n",
       "       [-5.47966978e-04, -3.30897025e-03, -8.61124974e-03],\n",
       "       [ 5.11408458e-03, -5.86818904e-04,  3.89658706e-03],\n",
       "       [ 5.12464345e-03, -4.09159460e-04,  4.33929637e-03],\n",
       "       [ 5.38432412e-03, -1.28034875e-03,  2.49253586e-03],\n",
       "       [ 5.23201982e-03, -2.44011427e-03, -4.84258897e-04],\n",
       "       [ 4.78700455e-03,  6.08504342e-04,  6.46085991e-03],\n",
       "       [ 4.49665170e-03,  1.07164669e-03,  7.28412578e-03],\n",
       "       [ 5.40262694e-03, -2.31066166e-04,  5.06138802e-03],\n",
       "       [ 4.92579257e-03,  7.10331136e-04,  6.85274974e-03],\n",
       "       [ 5.59379905e-03, -3.55142023e-04,  4.95884428e-03],\n",
       "       [ 4.25781868e-03,  1.63424271e-03,  8.40268843e-03],\n",
       "       [ 5.88845415e-03, -8.27324518e-04,  4.11808817e-03],\n",
       "       [ 1.81491789e-03,  3.41090141e-03,  1.01775508e-02],\n",
       "       [ 4.74508852e-03,  1.36402156e-03,  8.25317483e-03],\n",
       "       [ 1.18315197e-03,  3.78902163e-03,  1.04388772e-02],\n",
       "       [ 4.97351727e-03,  1.27233542e-03,  8.26811511e-03],\n",
       "       [ 2.49891682e-03,  3.27462377e-03,  1.05582755e-02],\n",
       "       [ 4.04624530e-04,  4.21363860e-03,  1.06604472e-02],\n",
       "       [ 4.37590433e-03,  2.08685803e-03,  9.62546375e-03],\n",
       "       [-1.64169550e-03,  4.72365273e-03,  9.77005716e-03],\n",
       "       [-7.03346566e-04,  4.64087958e-03,  1.05455192e-02],\n",
       "       [ 3.07925139e-03,  3.21581401e-03,  1.10193593e-02],\n",
       "       [ 1.04624266e-03,  4.25001048e-03,  1.14166094e-02],\n",
       "       [-5.39750699e-03,  4.30122763e-03,  4.83461190e-03],\n",
       "       [-6.34490419e-03,  3.60057526e-03,  2.14597397e-03],\n",
       "       [-4.71473951e-03,  4.75746999e-03,  6.65390398e-03],\n",
       "       [-6.34852750e-03,  3.83010716e-03,  2.69997562e-03],\n",
       "       [-6.44912338e-03,  3.83369718e-03,  2.60400237e-03],\n",
       "       [-6.92976499e-03,  3.28554958e-03,  7.71742431e-04],\n",
       "       [-7.05541577e-03,  5.16510045e-04, -6.08791877e-03],\n",
       "       [-3.88509175e-03,  5.26980357e-03,  8.76236893e-03]], dtype=float32)"
      ]
     },
     "execution_count": 33,
     "metadata": {},
     "output_type": "execute_result"
    }
   ],
   "source": [
    "dense1.output"
   ]
  }
 ],
 "metadata": {
  "kernelspec": {
   "display_name": "neural-network",
   "language": "python",
   "name": "python3"
  },
  "language_info": {
   "codemirror_mode": {
    "name": "ipython",
    "version": 3
   },
   "file_extension": ".py",
   "mimetype": "text/x-python",
   "name": "python",
   "nbconvert_exporter": "python",
   "pygments_lexer": "ipython3",
   "version": "undefined.undefined.undefined"
  }
 },
 "nbformat": 4,
 "nbformat_minor": 5
}
