{
 "cells": [
  {
   "cell_type": "markdown",
   "id": "bd424660",
   "metadata": {},
   "source": [
    "# Introducing Optimization"
   ]
  }
 ],
 "metadata": {
  "language_info": {
   "name": "python"
  }
 },
 "nbformat": 4,
 "nbformat_minor": 5
}
