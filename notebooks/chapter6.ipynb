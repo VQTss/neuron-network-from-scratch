{
 "cells": [
  {
   "cell_type": "markdown",
   "id": "bd424660",
   "metadata": {},
   "source": [
    "# Introducing Optimization"
   ]
  }
 ],
 "metadata": {
  "kernelspec": {
   "display_name": "neural-network",
   "language": "python",
   "name": "python3"
  },
  "language_info": {
   "name": "python",
   "version": "3.11.11"
  }
 },
 "nbformat": 4,
 "nbformat_minor": 5
}
