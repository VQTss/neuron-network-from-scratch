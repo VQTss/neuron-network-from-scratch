{
 "cells": [
  {
   "cell_type": "markdown",
   "id": "9686bbc5",
   "metadata": {},
   "source": [
    "# Activation Function"
   ]
  },
  {
   "cell_type": "code",
   "execution_count": 3,
   "id": "0595cdb2",
   "metadata": {},
   "outputs": [
    {
     "name": "stdout",
     "output_type": "stream",
     "text": [
      "Linear Model Accuracy: 0.6420000195503235\n",
      "Non-Linear Model Accuracy: 0.9020000100135803\n"
     ]
    }
   ],
   "source": [
    "import torch\n",
    "import torch.nn as nn\n",
    "import numpy as np\n",
    "\n",
    "# Generate toy circular dataset\n",
    "def generate_circular_data(n_samples=1000):\n",
    "    X = np.random.uniform(-1.5, 1.5, (n_samples, 2))\n",
    "    y = (X[:, 0]**2 + X[:, 1]**2 < 1).astype(int)  # 1 for inside, 0 for outside\n",
    "    return torch.tensor(X, dtype=torch.float32), torch.tensor(y, dtype=torch.long)\n",
    "\n",
    "X, y = generate_circular_data()\n",
    "\n",
    "# Linear Model (No activation)\n",
    "class LinearNN(nn.Module):\n",
    "    def __init__(self):\n",
    "        super().__init__()\n",
    "        self.fc1 = nn.Linear(2, 10)\n",
    "        self.fc2 = nn.Linear(10, 2)  # 2 classes\n",
    "    def forward(self, x):\n",
    "        x = self.fc1(x)\n",
    "        x = self.fc2(x)  # No non-linear activation\n",
    "        return x\n",
    "\n",
    "# Non-Linear Model (ReLU)\n",
    "class NonLinearNN(nn.Module):\n",
    "    def __init__(self):\n",
    "        super().__init__()\n",
    "        self.fc1 = nn.Linear(2, 10)\n",
    "        self.relu = nn.ReLU()\n",
    "        self.fc2 = nn.Linear(10, 2)\n",
    "    def forward(self, x):\n",
    "        x = self.relu(self.fc1(x))  # Non-linear activation\n",
    "        x = self.fc2(x)\n",
    "        return x\n",
    "\n",
    "# Training function (simplified)\n",
    "def train_model(model, X, y, epochs=100):\n",
    "    criterion = nn.CrossEntropyLoss()\n",
    "    optimizer = torch.optim.Adam(model.parameters(), lr=0.01)\n",
    "    for _ in range(epochs):\n",
    "        optimizer.zero_grad()\n",
    "        outputs = model(X)\n",
    "        loss = criterion(outputs, y)\n",
    "        loss.backward()\n",
    "        optimizer.step()\n",
    "    return model\n",
    "\n",
    "# Train both models\n",
    "linear_model = LinearNN()\n",
    "non_linear_model = NonLinearNN()\n",
    "train_model(linear_model, X, y)\n",
    "train_model(non_linear_model, X, y)\n",
    "\n",
    "# Evaluate accuracy (simplified)\n",
    "def get_accuracy(model, X, y):\n",
    "    with torch.no_grad():\n",
    "        outputs = model(X)\n",
    "        _, predicted = torch.max(outputs, 1)\n",
    "        accuracy = (predicted == y).float().mean().item()\n",
    "    return accuracy\n",
    "\n",
    "print(\"Linear Model Accuracy:\", get_accuracy(linear_model, X, y))    # Likely ~50-60%\n",
    "print(\"Non-Linear Model Accuracy:\", get_accuracy(non_linear_model, X, y))  # Likely ~90%+"
   ]
  },
  {
   "cell_type": "markdown",
   "id": "f2fb0f9f",
   "metadata": {},
   "source": [
    "Available Activations in PyTorch"
   ]
  },
  {
   "cell_type": "code",
   "execution_count": 5,
   "id": "2f591a9a",
   "metadata": {},
   "outputs": [
    {
     "name": "stdout",
     "output_type": "stream",
     "text": [
      "Sigmoid: tensor([0.2689, 0.5000, 0.9526])\n",
      "ReLU: tensor([0., 0., 3.])\n",
      "Tanh: tensor([-0.7616,  0.0000,  0.9951])\n",
      "GELU: tensor([-0.1587,  0.0000,  2.9960])\n",
      "Leaky ReLU: tensor([-0.1000,  0.0000,  3.0000])\n"
     ]
    }
   ],
   "source": [
    "import torch\n",
    "import torch.nn as nn\n",
    "\n",
    "# Example inputs\n",
    "x = torch.tensor([-1.0, 0.0, 3.0])\n",
    "\n",
    "# Common activation functions\n",
    "sigmoid = nn.Sigmoid()(x)  # [0.269, 0.5, 0.731]\n",
    "relu = nn.ReLU()(x)        # [0.0, 0.0, 1.0]\n",
    "tanh = nn.Tanh()(x)        # [-0.761, 0.0, 0.761]\n",
    "gelu = nn.GELU()(x)        # [-0.159, 0.0, 0.841]\n",
    "leaky_relu = nn.LeakyReLU(0.1)(x)  # [-0.1, 0.0, 1.0]\n",
    "\n",
    "print(\"Sigmoid:\", sigmoid)\n",
    "print(\"ReLU:\", relu)\n",
    "print(\"Tanh:\", tanh)\n",
    "print(\"GELU:\", gelu)\n",
    "print(\"Leaky ReLU:\", leaky_relu)"
   ]
  },
  {
   "cell_type": "markdown",
   "id": "4dd3041e",
   "metadata": {},
   "source": [
    "## ReLU Activation Function Code"
   ]
  },
  {
   "cell_type": "code",
   "execution_count": 1,
   "id": "9a0b83b2",
   "metadata": {},
   "outputs": [],
   "source": [
    "inputs = [0, 2, -1, 3.3, -2.7, 1.1, 2.2, -100]"
   ]
  },
  {
   "cell_type": "code",
   "execution_count": 2,
   "id": "ee8f4acb",
   "metadata": {},
   "outputs": [
    {
     "data": {
      "text/plain": [
       "[0, 2, 0, 3.3, 0, 1.1, 2.2, 0]"
      ]
     },
     "execution_count": 2,
     "metadata": {},
     "output_type": "execute_result"
    }
   ],
   "source": [
    "outputs = []\n",
    "for i in inputs:\n",
    "    if i > 0:\n",
    "        outputs.append(i)\n",
    "    else:\n",
    "        outputs.append(0)\n",
    "\n",
    "outputs"
   ]
  },
  {
   "cell_type": "code",
   "execution_count": 3,
   "id": "5c2a64fd",
   "metadata": {},
   "outputs": [],
   "source": [
    "inputs = [0, 2, -1, 3.3, -2.7, 1.1, 2.2, -100]"
   ]
  },
  {
   "cell_type": "code",
   "execution_count": 4,
   "id": "4304f3e7",
   "metadata": {},
   "outputs": [
    {
     "data": {
      "text/plain": [
       "[0, 2, 0, 3.3, 0, 1.1, 2.2, 0]"
      ]
     },
     "execution_count": 4,
     "metadata": {},
     "output_type": "execute_result"
    }
   ],
   "source": [
    "outputs = []\n",
    "for i in inputs:\n",
    "    outputs.append(max(i,0))\n",
    "\n",
    "outputs"
   ]
  },
  {
   "cell_type": "markdown",
   "id": "78df0c25",
   "metadata": {},
   "source": [
    "https://numpy.org/devdocs/reference/generated/numpy.maximum.html"
   ]
  },
  {
   "cell_type": "code",
   "execution_count": 8,
   "id": "12b4a887",
   "metadata": {},
   "outputs": [
    {
     "data": {
      "text/plain": [
       "array([0. , 2. , 0. , 3.3, 0. , 1.1, 2.2, 0. ])"
      ]
     },
     "execution_count": 8,
     "metadata": {},
     "output_type": "execute_result"
    }
   ],
   "source": [
    "import numpy as np\n",
    "output = np.maximum(0, inputs)\n",
    "output"
   ]
  },
  {
   "cell_type": "code",
   "execution_count": 14,
   "id": "595dfd40",
   "metadata": {},
   "outputs": [],
   "source": [
    "class Activation_ReLU:\n",
    "\n",
    "    # Forward pass\n",
    "    def forward(self,inputs):\n",
    "        # Calulator output values from \n",
    "        self.outputs =  np.maximum(0,inputs)"
   ]
  },
  {
   "cell_type": "code",
   "execution_count": 13,
   "id": "3c0797f6",
   "metadata": {},
   "outputs": [],
   "source": [
    "class Layer_Dense:\n",
    "\n",
    "    def __init__(self,n_inputs,n_neurons):\n",
    "        self.weights =  0.01 * np.random.rand(n_inputs,n_neurons)\n",
    "        self.biases = np.zeros((1, n_neurons))\n",
    "    \n",
    "    def forward(self,inputs):\n",
    "        self.outputs = np.dot(inputs, self.weights) + self.biases\n",
    "    "
   ]
  },
  {
   "cell_type": "code",
   "execution_count": 29,
   "id": "856f66fc",
   "metadata": {},
   "outputs": [],
   "source": [
    "from nnfs.datasets import spiral_data\n"
   ]
  },
  {
   "cell_type": "code",
   "execution_count": 30,
   "id": "bed179e9",
   "metadata": {},
   "outputs": [],
   "source": [
    "# Create dataset\n",
    "X, y = spiral_data(samples=100, classes=3)"
   ]
  },
  {
   "cell_type": "code",
   "execution_count": 31,
   "id": "19b9dbc3",
   "metadata": {},
   "outputs": [
    {
     "name": "stdout",
     "output_type": "stream",
     "text": [
      "(2, 3)\n"
     ]
    }
   ],
   "source": [
    "# Create Dense layer with 2 input features and 3 output values\n",
    "dense1 = Layer_Dense(2, 3)"
   ]
  },
  {
   "cell_type": "code",
   "execution_count": 21,
   "id": "772c8bc1",
   "metadata": {},
   "outputs": [
    {
     "data": {
      "text/plain": [
       "(300, 2)"
      ]
     },
     "execution_count": 21,
     "metadata": {},
     "output_type": "execute_result"
    }
   ],
   "source": [
    "X.shape"
   ]
  },
  {
   "cell_type": "code",
   "execution_count": 32,
   "id": "8c8801ed",
   "metadata": {},
   "outputs": [],
   "source": [
    "# Create ReLU activation (to be used with Dense layer):\n",
    "activation1 = Activation_ReLU()"
   ]
  },
  {
   "cell_type": "code",
   "execution_count": 33,
   "id": "9c925a84",
   "metadata": {},
   "outputs": [
    {
     "name": "stdout",
     "output_type": "stream",
     "text": [
      "(300, 2)\n",
      "(2, 3)\n",
      "(1, 3)\n"
     ]
    }
   ],
   "source": [
    "dense1.forward(X)"
   ]
  },
  {
   "cell_type": "code",
   "execution_count": 18,
   "id": "fd5ff3db",
   "metadata": {},
   "outputs": [],
   "source": [
    "activation1.forward(dense1.outputs)"
   ]
  },
  {
   "cell_type": "code",
   "execution_count": 20,
   "id": "e9435605",
   "metadata": {},
   "outputs": [
    {
     "data": {
      "text/plain": [
       "array([[0.00000000e+00, 0.00000000e+00, 0.00000000e+00],\n",
       "       [0.00000000e+00, 2.43705921e-06, 4.92539899e-05],\n",
       "       [8.20536938e-06, 2.86095750e-05, 1.79837876e-04],\n",
       "       [0.00000000e+00, 0.00000000e+00, 0.00000000e+00],\n",
       "       [1.99606761e-04, 9.11498665e-05, 4.22687713e-04]])"
      ]
     },
     "execution_count": 20,
     "metadata": {},
     "output_type": "execute_result"
    }
   ],
   "source": [
    "activation1.outputs[:5]"
   ]
  },
  {
   "cell_type": "markdown",
   "id": "16a2c4c5",
   "metadata": {},
   "source": [
    "# The Softmax Activation Function"
   ]
  },
  {
   "cell_type": "markdown",
   "id": "3ae195e1",
   "metadata": {},
   "source": [
    "<img src='./assets/formula_softmax.png' width=400  />"
   ]
  },
  {
   "cell_type": "code",
   "execution_count": 34,
   "id": "e588f163",
   "metadata": {},
   "outputs": [],
   "source": [
    "layer_outputs = [4.8, 1.21, 2.385]"
   ]
  },
  {
   "cell_type": "code",
   "execution_count": 35,
   "id": "eff02c14",
   "metadata": {},
   "outputs": [],
   "source": [
    "# e - mathematical constant, we use E here to match a common coding\n",
    "# style where constants are uppercased\n",
    "E = 2.71828182846 # you can also use math.e"
   ]
  },
  {
   "cell_type": "code",
   "execution_count": 37,
   "id": "be8184b5",
   "metadata": {},
   "outputs": [],
   "source": [
    "# For each value in a vector, calculate the exponential value\n",
    "exp_values = []\n",
    "for output in layer_outputs:\n",
    "    exp_values.append(E ** output) # ** - power operator in Python\n"
   ]
  },
  {
   "cell_type": "code",
   "execution_count": 38,
   "id": "c5840bd5",
   "metadata": {},
   "outputs": [
    {
     "name": "stdout",
     "output_type": "stream",
     "text": [
      "exponentiated values:\n",
      "[121.51041751893969, 3.3534846525504487, 10.85906266492961]\n"
     ]
    }
   ],
   "source": [
    "print('exponentiated values:')\n",
    "print(exp_values)"
   ]
  },
  {
   "cell_type": "code",
   "execution_count": 40,
   "id": "9a09dbd5",
   "metadata": {},
   "outputs": [],
   "source": [
    "norm_base = sum(exp_values)"
   ]
  },
  {
   "cell_type": "code",
   "execution_count": 42,
   "id": "c106d41b",
   "metadata": {},
   "outputs": [],
   "source": [
    "norm_values = []\n",
    "for value in exp_values:\n",
    "    norm_values.append(value / norm_base)\n"
   ]
  },
  {
   "cell_type": "code",
   "execution_count": 44,
   "id": "3702cd97",
   "metadata": {},
   "outputs": [
    {
     "name": "stdout",
     "output_type": "stream",
     "text": [
      "Normalized exponentiated values: [0.8952826639573506, 0.024708306782070668, 0.08000902926057876]\n"
     ]
    }
   ],
   "source": [
    "print(f\"Normalized exponentiated values: {norm_values}\")"
   ]
  },
  {
   "cell_type": "code",
   "execution_count": 50,
   "id": "2bd6c3fc",
   "metadata": {},
   "outputs": [
    {
     "name": "stdout",
     "output_type": "stream",
     "text": [
      "Sum of normalized values: 1.0\n"
     ]
    }
   ],
   "source": [
    "print(f\"Sum of normalized values: {sum(norm_values)}\")"
   ]
  },
  {
   "cell_type": "code",
   "execution_count": 51,
   "id": "6d043cda",
   "metadata": {},
   "outputs": [],
   "source": [
    "import numpy as np"
   ]
  },
  {
   "cell_type": "code",
   "execution_count": 52,
   "id": "67c400a8",
   "metadata": {},
   "outputs": [],
   "source": [
    "layer_outputs = [4.8, 1.21, 2.385]"
   ]
  },
  {
   "cell_type": "markdown",
   "id": "b027d6ab",
   "metadata": {},
   "source": [
    "https://www.geeksforgeeks.org/numpy-exp-python/"
   ]
  },
  {
   "cell_type": "code",
   "execution_count": 53,
   "id": "f62dd53e",
   "metadata": {},
   "outputs": [],
   "source": [
    "# For each value in a vector, calculate the exponential values\n",
    "exp_values = np.exp(layer_outputs)"
   ]
  },
  {
   "cell_type": "code",
   "execution_count": 54,
   "id": "519bbfab",
   "metadata": {},
   "outputs": [
    {
     "name": "stdout",
     "output_type": "stream",
     "text": [
      "Exponentiated values: [121.51041752   3.35348465  10.85906266]\n"
     ]
    }
   ],
   "source": [
    "print(f\"Exponentiated values: {exp_values}\")"
   ]
  },
  {
   "cell_type": "code",
   "execution_count": 57,
   "id": "3573a597",
   "metadata": {},
   "outputs": [
    {
     "name": "stdout",
     "output_type": "stream",
     "text": [
      "normalized exponentiated values: [0.89528266 0.02470831 0.08000903]\n",
      "sum of normalized values: 0.9999999999999999\n"
     ]
    }
   ],
   "source": [
    "# Normalized value\n",
    "norm_values = exp_values / np.sum(exp_values)\n",
    "print(f'normalized exponentiated values: {norm_values}')\n",
    "print('sum of normalized values:', np.sum(norm_values))"
   ]
  },
  {
   "cell_type": "markdown",
   "id": "a967e136",
   "metadata": {},
   "source": [
    "https://www.geeksforgeeks.org/numpy-sum-in-python/"
   ]
  },
  {
   "cell_type": "code",
   "execution_count": 69,
   "id": "0d2be0ac",
   "metadata": {},
   "outputs": [],
   "source": [
    "layer_outputs = np.array([[4.8, 1.21, 2.385],\n",
    "                            [8.9, -1.81, 0.2],\n",
    "                            [1.41, 1.051, 0.026]])"
   ]
  },
  {
   "cell_type": "code",
   "execution_count": 72,
   "id": "2e4804d3",
   "metadata": {},
   "outputs": [
    {
     "name": "stdout",
     "output_type": "stream",
     "text": [
      "Sum without axis 18.172\n"
     ]
    }
   ],
   "source": [
    "print('Sum without axis', np.sum(layer_outputs))"
   ]
  },
  {
   "cell_type": "code",
   "execution_count": 73,
   "id": "fa3012a4",
   "metadata": {},
   "outputs": [
    {
     "name": "stdout",
     "output_type": "stream",
     "text": [
      "This will be identical to the above since default is None: 18.172\n"
     ]
    }
   ],
   "source": [
    "print('This will be identical to the above since default is None:',np.sum(layer_outputs, axis=None))"
   ]
  },
  {
   "cell_type": "code",
   "execution_count": 74,
   "id": "1ab84429",
   "metadata": {},
   "outputs": [
    {
     "name": "stdout",
     "output_type": "stream",
     "text": [
      "Another way to think of it w/ a matrix == axis 0: columns: [15.11   0.451  2.611]\n"
     ]
    }
   ],
   "source": [
    "print('Another way to think of it w/ a matrix == axis 0: columns:', np.sum(layer_outputs, axis=0))"
   ]
  },
  {
   "cell_type": "code",
   "execution_count": 75,
   "id": "f7b3c7d8",
   "metadata": {},
   "outputs": [
    {
     "name": "stdout",
     "output_type": "stream",
     "text": [
      "But we want to sum the rows instead, like this w/ raw py [8.395 7.29  2.487]\n"
     ]
    }
   ],
   "source": [
    "print(\"But we want to sum the rows instead, like this w/ raw py\", np.sum(layer_outputs, axis=1))"
   ]
  },
  {
   "cell_type": "code",
   "execution_count": 76,
   "id": "2d4fde14",
   "metadata": {},
   "outputs": [
    {
     "name": "stdout",
     "output_type": "stream",
     "text": [
      "Sum axis 1, but keep the same dimension as input  [[8.395]\n",
      " [7.29 ]\n",
      " [2.487]]\n"
     ]
    }
   ],
   "source": [
    "print('Sum axis 1, but keep the same dimension as input ',np.sum(layer_outputs, axis=1, keepdims=True))"
   ]
  },
  {
   "cell_type": "code",
   "execution_count": 1,
   "id": "d64323b8",
   "metadata": {},
   "outputs": [],
   "source": [
    "import numpy as np"
   ]
  },
  {
   "cell_type": "code",
   "execution_count": 2,
   "id": "b9f3eec3",
   "metadata": {},
   "outputs": [],
   "source": [
    "class Acitvation_Softmax:\n",
    "\n",
    "    # Forward pass\n",
    "    def forward(self, inputs):\n",
    "        # Get unnormalized probabilities\n",
    "        exp_values = np.exp(inputs - np.max(inputs,axis=1,keepdims=True))\n",
    "        print(inputs - np.max(inputs,axis=1,keepdims=True))\n",
    "        print(f\"exp_values == {exp_values}\")\n",
    "        print(np.max(inputs,axis=1,keepdims=True))\n",
    "        # Normalized them for each example\n",
    "        probabilities = exp_values / np.sum(exp_values, axis=1, keepdims=True)\n",
    "\n",
    "        self.output = probabilities\n"
   ]
  },
  {
   "cell_type": "code",
   "execution_count": 3,
   "id": "c41edaea",
   "metadata": {},
   "outputs": [],
   "source": [
    "softmax = Acitvation_Softmax()"
   ]
  },
  {
   "cell_type": "code",
   "execution_count": 4,
   "id": "cd222d48",
   "metadata": {},
   "outputs": [
    {
     "name": "stdout",
     "output_type": "stream",
     "text": [
      "[[-2 -1  0]]\n",
      "exp_values == [[0.13533528 0.36787944 1.        ]]\n",
      "[[3]]\n"
     ]
    }
   ],
   "source": [
    "softmax.forward([[1,2,3]])"
   ]
  },
  {
   "cell_type": "code",
   "execution_count": 5,
   "id": "89307504",
   "metadata": {},
   "outputs": [
    {
     "data": {
      "text/plain": [
       "array([[0.09003057, 0.24472847, 0.66524096]])"
      ]
     },
     "execution_count": 5,
     "metadata": {},
     "output_type": "execute_result"
    }
   ],
   "source": [
    "softmax.output"
   ]
  },
  {
   "cell_type": "code",
   "execution_count": 7,
   "id": "7506d647",
   "metadata": {},
   "outputs": [
    {
     "name": "stdout",
     "output_type": "stream",
     "text": [
      "[[-2 -1  0]]\n",
      "exp_values == [[0.13533528 0.36787944 1.        ]]\n",
      "[[0]]\n"
     ]
    }
   ],
   "source": [
    "softmax.forward([[-2,-1,0]])\n"
   ]
  },
  {
   "cell_type": "code",
   "execution_count": 8,
   "id": "3c3f4e06",
   "metadata": {},
   "outputs": [
    {
     "data": {
      "text/plain": [
       "array([[0.09003057, 0.24472847, 0.66524096]])"
      ]
     },
     "execution_count": 8,
     "metadata": {},
     "output_type": "execute_result"
    }
   ],
   "source": [
    "softmax.output"
   ]
  },
  {
   "cell_type": "code",
   "execution_count": 9,
   "id": "ce790bff",
   "metadata": {},
   "outputs": [
    {
     "name": "stdout",
     "output_type": "stream",
     "text": [
      "[[-1.  -0.5  0. ]]\n",
      "exp_values == [[0.36787944 0.60653066 1.        ]]\n",
      "[[1.5]]\n"
     ]
    }
   ],
   "source": [
    "softmax.forward([[0.5, 1, 1.5]])"
   ]
  },
  {
   "cell_type": "code",
   "execution_count": 10,
   "id": "20055dc7",
   "metadata": {},
   "outputs": [
    {
     "data": {
      "text/plain": [
       "array([[0.18632372, 0.30719589, 0.50648039]])"
      ]
     },
     "execution_count": 10,
     "metadata": {},
     "output_type": "execute_result"
    }
   ],
   "source": [
    "softmax.output"
   ]
  },
  {
   "cell_type": "code",
   "execution_count": 11,
   "id": "418594ca",
   "metadata": {},
   "outputs": [],
   "source": [
    "from nnfs.datasets import  spiral_data\n"
   ]
  },
  {
   "cell_type": "code",
   "execution_count": 16,
   "id": "74e274e8",
   "metadata": {},
   "outputs": [
    {
     "name": "stdout",
     "output_type": "stream",
     "text": [
      "[[ 0.00000000e+00  0.00000000e+00  0.00000000e+00]\n",
      " [ 0.00000000e+00 -4.41134674e-07 -4.23640278e-07]\n",
      " [ 0.00000000e+00 -1.29240077e-06 -1.26872340e-06]\n",
      " [ 0.00000000e+00 -2.48479969e-06 -2.49803682e-06]\n",
      " [ 0.00000000e+00 -3.30416730e-06 -3.32469101e-06]\n",
      " [ 0.00000000e+00 -3.90115059e-06 -3.87650504e-06]\n",
      " [ 0.00000000e+00 -4.38345275e-06 -4.33483322e-06]\n",
      " [ 0.00000000e+00 -4.71518122e-06 -4.63979984e-06]\n",
      " [ 0.00000000e+00 -6.37234193e-06 -6.44541518e-06]\n",
      " [ 0.00000000e+00 -7.19301792e-06 -7.27303244e-06]\n",
      " [ 0.00000000e+00 -5.62481991e-06 -5.80999368e-06]\n",
      " [ 0.00000000e+00 -7.02200444e-06 -7.20484108e-06]\n",
      " [ 0.00000000e+00 -9.73756106e-06 -9.82871399e-06]\n",
      " [ 0.00000000e+00 -1.61860805e-06 -1.91331541e-06]\n",
      " [ 0.00000000e+00 -3.76446545e-06 -4.07554898e-06]\n",
      " [ 0.00000000e+00 -3.70158671e-07 -7.08598874e-07]\n",
      " [ 0.00000000e+00 -1.11584779e-07 -1.54258105e-07]\n",
      " [ 0.00000000e+00 -3.14402958e-06 -3.52775050e-06]\n",
      " [ 0.00000000e+00 -6.22667493e-06 -6.61652628e-06]\n",
      " [ 0.00000000e+00 -5.30321574e-06 -5.72424428e-06]\n",
      " [-2.42575436e-07 -2.93166246e-07  0.00000000e+00]\n",
      " [ 0.00000000e+00 -1.34249152e-05 -1.37734057e-05]\n",
      " [-1.73895050e-08 -2.10162084e-08  0.00000000e+00]\n",
      " [ 0.00000000e+00 -1.32680741e-05 -1.36866788e-05]\n",
      " [ 0.00000000e+00  0.00000000e+00  0.00000000e+00]\n",
      " [ 0.00000000e+00  0.00000000e+00  0.00000000e+00]\n",
      " [ 0.00000000e+00  0.00000000e+00  0.00000000e+00]\n",
      " [ 0.00000000e+00 -9.07505275e-06 -9.66213081e-06]\n",
      " [ 0.00000000e+00  0.00000000e+00  0.00000000e+00]\n",
      " [-1.01106037e-07 -1.22192412e-07  0.00000000e+00]\n",
      " [ 0.00000000e+00 -1.03339367e-06 -1.71102323e-06]\n",
      " [ 0.00000000e+00  0.00000000e+00  0.00000000e+00]\n",
      " [ 0.00000000e+00  0.00000000e+00  0.00000000e+00]\n",
      " [ 0.00000000e+00  0.00000000e+00  0.00000000e+00]\n",
      " [ 0.00000000e+00  0.00000000e+00  0.00000000e+00]\n",
      " [ 0.00000000e+00  0.00000000e+00  0.00000000e+00]\n",
      " [ 0.00000000e+00  0.00000000e+00  0.00000000e+00]\n",
      " [ 0.00000000e+00  0.00000000e+00  0.00000000e+00]\n",
      " [ 0.00000000e+00  0.00000000e+00  0.00000000e+00]\n",
      " [ 0.00000000e+00  0.00000000e+00  0.00000000e+00]\n",
      " [ 0.00000000e+00  0.00000000e+00  0.00000000e+00]\n",
      " [ 0.00000000e+00  0.00000000e+00  0.00000000e+00]\n",
      " [ 0.00000000e+00  0.00000000e+00  0.00000000e+00]\n",
      " [ 0.00000000e+00  0.00000000e+00  0.00000000e+00]\n",
      " [ 0.00000000e+00  0.00000000e+00  0.00000000e+00]\n",
      " [ 0.00000000e+00  0.00000000e+00  0.00000000e+00]\n",
      " [ 0.00000000e+00  0.00000000e+00  0.00000000e+00]\n",
      " [ 0.00000000e+00  0.00000000e+00  0.00000000e+00]\n",
      " [ 0.00000000e+00 -7.09131474e-06 -5.48790046e-06]\n",
      " [ 0.00000000e+00  0.00000000e+00  0.00000000e+00]\n",
      " [ 0.00000000e+00  0.00000000e+00  0.00000000e+00]\n",
      " [ 0.00000000e+00  0.00000000e+00  0.00000000e+00]\n",
      " [ 0.00000000e+00  0.00000000e+00  0.00000000e+00]\n",
      " [ 0.00000000e+00 -3.01795415e-05 -2.94186676e-05]\n",
      " [ 0.00000000e+00  0.00000000e+00  0.00000000e+00]\n",
      " [ 0.00000000e+00 -4.87092654e-06 -3.76956333e-06]\n",
      " [ 0.00000000e+00 -4.41461312e-05 -4.46960467e-05]\n",
      " [ 0.00000000e+00 -1.27927966e-05 -1.11702011e-05]\n",
      " [ 0.00000000e+00 -3.62833383e-05 -3.55538474e-05]\n",
      " [ 0.00000000e+00 -4.06461944e-05 -4.00492047e-05]\n",
      " [ 0.00000000e+00 -3.58315654e-05 -3.50206613e-05]\n",
      " [ 0.00000000e+00 -5.05853357e-05 -5.08250560e-05]\n",
      " [ 0.00000000e+00 -4.61218609e-05 -4.56656457e-05]\n",
      " [ 0.00000000e+00 -4.13102527e-05 -4.05870560e-05]\n",
      " [ 0.00000000e+00 -5.20630903e-05 -5.19599086e-05]\n",
      " [ 0.00000000e+00 -5.36995841e-05 -5.37461375e-05]\n",
      " [ 0.00000000e+00 -5.47386769e-05 -5.49937078e-05]\n",
      " [ 0.00000000e+00 -4.88028298e-05 -4.96972456e-05]\n",
      " [ 0.00000000e+00 -5.40879626e-05 -5.47158569e-05]\n",
      " [ 0.00000000e+00 -5.72687994e-05 -5.74438315e-05]\n",
      " [ 0.00000000e+00 -5.52535998e-05 -5.49609670e-05]\n",
      " [ 0.00000000e+00 -3.59719716e-05 -3.73632837e-05]\n",
      " [ 0.00000000e+00 -5.93348109e-05 -5.97382256e-05]\n",
      " [ 0.00000000e+00 -5.68651294e-05 -5.76325645e-05]\n",
      " [ 0.00000000e+00 -4.50267140e-05 -4.63171312e-05]\n",
      " [ 0.00000000e+00 -3.50319810e-05 -3.65494599e-05]\n",
      " [ 0.00000000e+00 -3.33614410e-05 -3.49293487e-05]\n",
      " [ 0.00000000e+00 -3.94596402e-05 -4.09606729e-05]\n",
      " [ 0.00000000e+00 -5.41610042e-05 -5.53128373e-05]\n",
      " [ 0.00000000e+00  0.00000000e+00  0.00000000e+00]\n",
      " [ 0.00000000e+00 -5.78572143e-05 -5.89439600e-05]\n",
      " [ 0.00000000e+00  0.00000000e+00  0.00000000e+00]\n",
      " [ 0.00000000e+00 -8.43050031e-07 -2.57718774e-06]\n",
      " [ 0.00000000e+00 -1.89233429e-05 -2.07845226e-05]\n",
      " [-7.48128126e-07 -1.09381595e-06  0.00000000e+00]\n",
      " [ 0.00000000e+00  0.00000000e+00  0.00000000e+00]\n",
      " [ 0.00000000e+00  0.00000000e+00  0.00000000e+00]\n",
      " [ 0.00000000e+00  0.00000000e+00  0.00000000e+00]\n",
      " [ 0.00000000e+00  0.00000000e+00  0.00000000e+00]\n",
      " [ 0.00000000e+00  0.00000000e+00  0.00000000e+00]\n",
      " [ 0.00000000e+00  0.00000000e+00  0.00000000e+00]\n",
      " [ 0.00000000e+00  0.00000000e+00  0.00000000e+00]\n",
      " [ 0.00000000e+00  0.00000000e+00  0.00000000e+00]\n",
      " [ 0.00000000e+00  0.00000000e+00  0.00000000e+00]\n",
      " [ 0.00000000e+00  0.00000000e+00  0.00000000e+00]\n",
      " [ 0.00000000e+00  0.00000000e+00  0.00000000e+00]\n",
      " [ 0.00000000e+00  0.00000000e+00  0.00000000e+00]\n",
      " [ 0.00000000e+00  0.00000000e+00  0.00000000e+00]\n",
      " [ 0.00000000e+00  0.00000000e+00  0.00000000e+00]\n",
      " [ 0.00000000e+00  0.00000000e+00  0.00000000e+00]\n",
      " [ 0.00000000e+00  0.00000000e+00  0.00000000e+00]\n",
      " [ 0.00000000e+00  0.00000000e+00  0.00000000e+00]\n",
      " [ 0.00000000e+00  0.00000000e+00  0.00000000e+00]\n",
      " [ 0.00000000e+00  0.00000000e+00  0.00000000e+00]\n",
      " [ 0.00000000e+00  0.00000000e+00  0.00000000e+00]\n",
      " [ 0.00000000e+00  0.00000000e+00  0.00000000e+00]\n",
      " [ 0.00000000e+00  0.00000000e+00  0.00000000e+00]\n",
      " [ 0.00000000e+00  0.00000000e+00  0.00000000e+00]\n",
      " [ 0.00000000e+00  0.00000000e+00  0.00000000e+00]\n",
      " [ 0.00000000e+00  0.00000000e+00  0.00000000e+00]\n",
      " [ 0.00000000e+00  0.00000000e+00  0.00000000e+00]\n",
      " [ 0.00000000e+00  0.00000000e+00  0.00000000e+00]\n",
      " [ 0.00000000e+00 -2.00054994e-06 -1.54820641e-06]\n",
      " [ 0.00000000e+00  0.00000000e+00  0.00000000e+00]\n",
      " [ 0.00000000e+00  0.00000000e+00  0.00000000e+00]\n",
      " [ 0.00000000e+00  0.00000000e+00  0.00000000e+00]\n",
      " [ 0.00000000e+00  0.00000000e+00  0.00000000e+00]\n",
      " [ 0.00000000e+00  0.00000000e+00  0.00000000e+00]\n",
      " [ 0.00000000e+00  0.00000000e+00  0.00000000e+00]\n",
      " [ 0.00000000e+00  0.00000000e+00  0.00000000e+00]\n",
      " [ 0.00000000e+00 -7.10073993e-06 -6.71923910e-06]\n",
      " [ 0.00000000e+00 -1.29478992e-05 -1.26773282e-05]\n",
      " [ 0.00000000e+00 -1.99977883e-06 -1.54760965e-06]\n",
      " [ 0.00000000e+00 -6.81199230e-06 -6.35284694e-06]\n",
      " [ 0.00000000e+00 -1.61846242e-05 -1.59269272e-05]\n",
      " [ 0.00000000e+00 -1.86545526e-05 -1.84739400e-05]\n",
      " [ 0.00000000e+00 -1.48409387e-05 -1.44687245e-05]\n",
      " [ 0.00000000e+00 -2.23314886e-05 -2.23584498e-05]\n",
      " [ 0.00000000e+00 -2.28642355e-05 -2.30579410e-05]\n",
      " [ 0.00000000e+00 -2.40519699e-05 -2.41093889e-05]\n",
      " [ 0.00000000e+00 -1.19382802e-05 -1.25723264e-05]\n",
      " [ 0.00000000e+00 -2.42683804e-05 -2.41220128e-05]\n",
      " [ 0.00000000e+00 -2.37150395e-05 -2.41227108e-05]\n",
      " [ 0.00000000e+00 -2.68379005e-05 -2.67837248e-05]\n",
      " [ 0.00000000e+00 -2.75861033e-05 -2.78448154e-05]\n",
      " [ 0.00000000e+00 -1.69943185e-05 -1.76924874e-05]\n",
      " [ 0.00000000e+00 -2.56089476e-05 -2.61163354e-05]\n",
      " [ 0.00000000e+00 -1.97297711e-05 -2.04368653e-05]\n",
      " [ 0.00000000e+00 -2.75469162e-05 -2.80602205e-05]\n",
      " [ 0.00000000e+00 -1.00209461e-05 -1.08901089e-05]\n",
      " [ 0.00000000e+00 -3.10177064e-05 -3.08059459e-05]\n",
      " [ 0.00000000e+00 -2.23723899e-05 -2.31459162e-05]\n",
      " [ 0.00000000e+00 -4.87951162e-06 -5.83179966e-06]\n",
      " [ 0.00000000e+00 -1.24882750e-05 -1.34380307e-05]\n",
      " [ 0.00000000e+00  0.00000000e+00  0.00000000e+00]\n",
      " [ 0.00000000e+00 -3.68270728e-05 -3.71262292e-05]\n",
      " [ 0.00000000e+00  0.00000000e+00  0.00000000e+00]\n",
      " [ 0.00000000e+00 -6.84341691e-06 -7.90795983e-06]\n",
      " [ 0.00000000e+00 -4.73508798e-07 -1.37595761e-06]\n",
      " [ 0.00000000e+00  0.00000000e+00  0.00000000e+00]\n",
      " [ 0.00000000e+00  0.00000000e+00  0.00000000e+00]\n",
      " [ 0.00000000e+00  0.00000000e+00  0.00000000e+00]\n",
      " [ 0.00000000e+00  0.00000000e+00  0.00000000e+00]\n",
      " [ 0.00000000e+00 -4.83965526e-07 -1.26208329e-06]\n",
      " [ 0.00000000e+00  0.00000000e+00  0.00000000e+00]\n",
      " [ 0.00000000e+00  0.00000000e+00  0.00000000e+00]\n",
      " [ 0.00000000e+00  0.00000000e+00  0.00000000e+00]\n",
      " [ 0.00000000e+00  0.00000000e+00  0.00000000e+00]\n",
      " [ 0.00000000e+00  0.00000000e+00  0.00000000e+00]\n",
      " [ 0.00000000e+00  0.00000000e+00  0.00000000e+00]\n",
      " [ 0.00000000e+00  0.00000000e+00  0.00000000e+00]\n",
      " [ 0.00000000e+00  0.00000000e+00  0.00000000e+00]\n",
      " [ 0.00000000e+00  0.00000000e+00  0.00000000e+00]\n",
      " [ 0.00000000e+00  0.00000000e+00  0.00000000e+00]\n",
      " [ 0.00000000e+00  0.00000000e+00  0.00000000e+00]\n",
      " [ 0.00000000e+00  0.00000000e+00  0.00000000e+00]\n",
      " [ 0.00000000e+00  0.00000000e+00  0.00000000e+00]\n",
      " [ 0.00000000e+00 -7.20959346e-06 -5.57943522e-06]\n",
      " [ 0.00000000e+00  0.00000000e+00  0.00000000e+00]\n",
      " [ 0.00000000e+00  0.00000000e+00  0.00000000e+00]\n",
      " [ 0.00000000e+00  0.00000000e+00  0.00000000e+00]\n",
      " [ 0.00000000e+00  0.00000000e+00  0.00000000e+00]\n",
      " [ 0.00000000e+00  0.00000000e+00  0.00000000e+00]\n",
      " [ 0.00000000e+00  0.00000000e+00  0.00000000e+00]\n",
      " [ 0.00000000e+00 -1.27549868e-05 -9.87096196e-06]\n",
      " [ 0.00000000e+00  0.00000000e+00  0.00000000e+00]\n",
      " [ 0.00000000e+00  0.00000000e+00  0.00000000e+00]\n",
      " [ 0.00000000e+00 -6.83175642e-07 -5.28703076e-07]\n",
      " [ 0.00000000e+00  0.00000000e+00  0.00000000e+00]\n",
      " [ 0.00000000e+00  0.00000000e+00  0.00000000e+00]\n",
      " [ 0.00000000e+00  0.00000000e+00  0.00000000e+00]\n",
      " [ 0.00000000e+00 -6.90488351e-06 -5.34362312e-06]\n",
      " [ 0.00000000e+00 -1.64777861e-05 -1.37015713e-05]\n",
      " [ 0.00000000e+00 -6.24507575e-05 -6.18823625e-05]\n",
      " [ 0.00000000e+00 -5.66429816e-05 -5.57409099e-05]\n",
      " [ 0.00000000e+00 -5.53035864e-05 -5.43113852e-05]\n",
      " [ 0.00000000e+00 -4.21942052e-05 -4.07829374e-05]\n",
      " [ 0.00000000e+00 -3.11286496e-05 -2.94730639e-05]\n",
      " [ 0.00000000e+00 -3.48860826e-05 -3.32704209e-05]\n",
      " [ 0.00000000e+00 -4.96387976e-05 -4.83313871e-05]\n",
      " [ 0.00000000e+00 -5.28529041e-05 -5.16087285e-05]\n",
      " [ 0.00000000e+00 -7.52495471e-05 -7.53354091e-05]\n",
      " [ 0.00000000e+00 -7.10503247e-05 -7.20590696e-05]\n",
      " [ 0.00000000e+00 -6.96070632e-05 -7.07565497e-05]\n",
      " [ 0.00000000e+00 -5.41446820e-05 -5.58573413e-05]\n",
      " [ 0.00000000e+00 -7.87043545e-05 -7.88473780e-05]\n",
      " [ 0.00000000e+00 -7.57560112e-05 -7.66926442e-05]\n",
      " [ 0.00000000e+00 -8.03905091e-05 -8.07973357e-05]\n",
      " [ 0.00000000e+00 -7.11105624e-05 -7.24312550e-05]\n",
      " [ 0.00000000e+00 -6.76342041e-05 -6.91368949e-05]\n",
      " [ 0.00000000e+00  0.00000000e+00  0.00000000e+00]\n",
      " [ 0.00000000e+00 -4.37722278e-07 -4.58369216e-07]\n",
      " [ 0.00000000e+00 -1.10448490e-06 -1.14195019e-06]\n",
      " [ 0.00000000e+00  0.00000000e+00  0.00000000e+00]\n",
      " [ 0.00000000e+00 -3.28504167e-06 -3.28351522e-06]\n",
      " [ 0.00000000e+00 -6.14662868e-07 -7.28016277e-07]\n",
      " [ 0.00000000e+00 -3.61090903e-06 -3.71654816e-06]\n",
      " [ 0.00000000e+00 -2.15438714e-06 -2.30815568e-06]\n",
      " [-8.60357877e-08 -1.03979155e-07  0.00000000e+00]\n",
      " [ 0.00000000e+00  0.00000000e+00  0.00000000e+00]\n",
      " [ 0.00000000e+00  0.00000000e+00  0.00000000e+00]\n",
      " [ 0.00000000e+00  0.00000000e+00  0.00000000e+00]\n",
      " [ 0.00000000e+00 -2.29862442e-06 -2.56926531e-06]\n",
      " [ 0.00000000e+00 -2.01312916e-06 -2.30740123e-06]\n",
      " [ 0.00000000e+00 -1.01349907e-06 -1.33066874e-06]\n",
      " [ 0.00000000e+00 -4.16277074e-06 -4.49530840e-06]\n",
      " [-2.16229611e-08 -2.61325816e-08  0.00000000e+00]\n",
      " [ 0.00000000e+00  0.00000000e+00  0.00000000e+00]\n",
      " [ 0.00000000e+00  0.00000000e+00  0.00000000e+00]\n",
      " [ 0.00000000e+00 -1.18294046e-06 -1.61313144e-06]\n",
      " [ 0.00000000e+00  0.00000000e+00  0.00000000e+00]\n",
      " [ 0.00000000e+00  0.00000000e+00  0.00000000e+00]\n",
      " [ 0.00000000e+00  0.00000000e+00  0.00000000e+00]\n",
      " [ 0.00000000e+00  0.00000000e+00  0.00000000e+00]\n",
      " [ 0.00000000e+00  0.00000000e+00  0.00000000e+00]\n",
      " [ 0.00000000e+00  0.00000000e+00  0.00000000e+00]\n",
      " [ 0.00000000e+00  0.00000000e+00  0.00000000e+00]\n",
      " [ 0.00000000e+00  0.00000000e+00  0.00000000e+00]\n",
      " [ 0.00000000e+00  0.00000000e+00  0.00000000e+00]\n",
      " [ 0.00000000e+00  0.00000000e+00  0.00000000e+00]\n",
      " [ 0.00000000e+00  0.00000000e+00  0.00000000e+00]\n",
      " [ 0.00000000e+00  0.00000000e+00  0.00000000e+00]\n",
      " [ 0.00000000e+00  0.00000000e+00  0.00000000e+00]\n",
      " [ 0.00000000e+00  0.00000000e+00  0.00000000e+00]\n",
      " [ 0.00000000e+00  0.00000000e+00  0.00000000e+00]\n",
      " [ 0.00000000e+00 -1.20111352e-05 -1.13368336e-05]\n",
      " [ 0.00000000e+00 -2.55100243e-05 -2.51782271e-05]\n",
      " [ 0.00000000e+00  0.00000000e+00  0.00000000e+00]\n",
      " [ 0.00000000e+00  0.00000000e+00  0.00000000e+00]\n",
      " [ 0.00000000e+00  0.00000000e+00  0.00000000e+00]\n",
      " [ 0.00000000e+00  0.00000000e+00  0.00000000e+00]\n",
      " [ 0.00000000e+00 -1.80855235e-05 -1.73682328e-05]\n",
      " [ 0.00000000e+00 -1.10323765e-05 -1.01753558e-05]\n",
      " [ 0.00000000e+00 -2.28861325e-05 -2.22247354e-05]\n",
      " [ 0.00000000e+00 -2.62627496e-05 -2.56676532e-05]\n",
      " [ 0.00000000e+00  0.00000000e+00  0.00000000e+00]\n",
      " [ 0.00000000e+00 -3.53519647e-05 -3.50854896e-05]\n",
      " [ 0.00000000e+00 -3.32727275e-05 -3.28380157e-05]\n",
      " [ 0.00000000e+00 -1.63496587e-05 -1.54229671e-05]\n",
      " [ 0.00000000e+00 -2.85513461e-05 -2.78671425e-05]\n",
      " [ 0.00000000e+00 -2.81721476e-05 -2.74457253e-05]\n",
      " [ 0.00000000e+00 -4.23349302e-05 -4.24788871e-05]\n",
      " [ 0.00000000e+00 -1.76855567e-05 -1.66812237e-05]\n",
      " [ 0.00000000e+00 -3.82926184e-05 -3.90142673e-05]\n",
      " [ 0.00000000e+00 -3.43071971e-05 -3.52095079e-05]\n",
      " [ 0.00000000e+00 -4.43319887e-05 -4.41924550e-05]\n",
      " [ 0.00000000e+00 -1.53530553e-05 -1.65956611e-05]\n",
      " [ 0.00000000e+00 -3.29902895e-05 -3.40252327e-05]\n",
      " [ 0.00000000e+00 -4.77654895e-05 -4.80973541e-05]\n",
      " [ 0.00000000e+00 -4.87574647e-05 -4.88039212e-05]\n",
      " [ 0.00000000e+00 -4.43100339e-05 -4.50821544e-05]\n",
      " [ 0.00000000e+00 -5.00170296e-05 -5.04070400e-05]\n",
      " [ 0.00000000e+00 -2.05890718e-05 -2.19392734e-05]\n",
      " [ 0.00000000e+00 -1.38548908e-05 -1.52696626e-05]\n",
      " [ 0.00000000e+00 -5.77677785e-07 -1.47956305e-06]\n",
      " [ 0.00000000e+00 -2.97514250e-05 -3.10755032e-05]\n",
      " [ 0.00000000e+00 -3.85458901e-05 -3.97362526e-05]\n",
      " [ 0.00000000e+00 -2.23949700e-05 -2.38528443e-05]\n",
      " [ 0.00000000e+00 -2.87507641e-06 -4.41224509e-06]\n",
      " [ 0.00000000e+00 -2.65566874e-05 -2.80248751e-05]\n",
      " [ 0.00000000e+00 -1.15736914e-05 -1.31569104e-05]\n",
      " [ 0.00000000e+00  0.00000000e+00  0.00000000e+00]\n",
      " [ 0.00000000e+00  0.00000000e+00  0.00000000e+00]\n",
      " [-9.44451670e-07 -1.19912655e-06  0.00000000e+00]\n",
      " [ 0.00000000e+00  0.00000000e+00  0.00000000e+00]\n",
      " [-7.02174389e-07 -8.48617789e-07  0.00000000e+00]\n",
      " [ 0.00000000e+00 -7.59955221e-07 -2.24646908e-06]\n",
      " [ 0.00000000e+00  0.00000000e+00  0.00000000e+00]\n",
      " [ 0.00000000e+00 -2.50572781e-05 -2.67627423e-05]\n",
      " [ 0.00000000e+00 -5.74821729e-06 -7.53799385e-06]\n",
      " [ 0.00000000e+00  0.00000000e+00  0.00000000e+00]\n",
      " [ 0.00000000e+00  0.00000000e+00  0.00000000e+00]\n",
      " [ 0.00000000e+00 -7.13913396e-06 -8.99793386e-06]\n",
      " [ 0.00000000e+00  0.00000000e+00  0.00000000e+00]\n",
      " [ 0.00000000e+00  0.00000000e+00  0.00000000e+00]\n",
      " [ 0.00000000e+00  0.00000000e+00  0.00000000e+00]\n",
      " [ 0.00000000e+00  0.00000000e+00  0.00000000e+00]\n",
      " [ 0.00000000e+00  0.00000000e+00  0.00000000e+00]\n",
      " [ 0.00000000e+00  0.00000000e+00  0.00000000e+00]\n",
      " [ 0.00000000e+00  0.00000000e+00  0.00000000e+00]\n",
      " [ 0.00000000e+00  0.00000000e+00  0.00000000e+00]\n",
      " [ 0.00000000e+00  0.00000000e+00  0.00000000e+00]\n",
      " [ 0.00000000e+00  0.00000000e+00  0.00000000e+00]\n",
      " [ 0.00000000e+00  0.00000000e+00  0.00000000e+00]\n",
      " [ 0.00000000e+00  0.00000000e+00  0.00000000e+00]\n",
      " [ 0.00000000e+00  0.00000000e+00  0.00000000e+00]\n",
      " [ 0.00000000e+00 -1.31652187e-05 -1.01884365e-05]\n",
      " [ 0.00000000e+00 -3.04383512e-07 -2.35559481e-07]\n",
      " [ 0.00000000e+00  0.00000000e+00  0.00000000e+00]\n",
      " [ 0.00000000e+00 -1.48768905e-05 -1.15130828e-05]]\n",
      "exp_values == [[1.         1.         1.        ]\n",
      " [1.         0.99999956 0.99999958]\n",
      " [1.         0.99999871 0.99999873]\n",
      " [1.         0.99999752 0.9999975 ]\n",
      " [1.         0.9999967  0.99999668]\n",
      " [1.         0.9999961  0.99999612]\n",
      " [1.         0.99999562 0.99999567]\n",
      " [1.         0.99999528 0.99999536]\n",
      " [1.         0.99999363 0.99999355]\n",
      " [1.         0.99999281 0.99999273]\n",
      " [1.         0.99999438 0.99999419]\n",
      " [1.         0.99999298 0.9999928 ]\n",
      " [1.         0.99999026 0.99999017]\n",
      " [1.         0.99999838 0.99999809]\n",
      " [1.         0.99999624 0.99999592]\n",
      " [1.         0.99999963 0.99999929]\n",
      " [1.         0.99999989 0.99999985]\n",
      " [1.         0.99999686 0.99999647]\n",
      " [1.         0.99999377 0.99999338]\n",
      " [1.         0.9999947  0.99999428]\n",
      " [0.99999976 0.99999971 1.        ]\n",
      " [1.         0.99998658 0.99998623]\n",
      " [0.99999998 0.99999998 1.        ]\n",
      " [1.         0.99998673 0.99998631]\n",
      " [1.         1.         1.        ]\n",
      " [1.         1.         1.        ]\n",
      " [1.         1.         1.        ]\n",
      " [1.         0.99999092 0.99999034]\n",
      " [1.         1.         1.        ]\n",
      " [0.9999999  0.99999988 1.        ]\n",
      " [1.         0.99999897 0.99999829]\n",
      " [1.         1.         1.        ]\n",
      " [1.         1.         1.        ]\n",
      " [1.         1.         1.        ]\n",
      " [1.         1.         1.        ]\n",
      " [1.         1.         1.        ]\n",
      " [1.         1.         1.        ]\n",
      " [1.         1.         1.        ]\n",
      " [1.         1.         1.        ]\n",
      " [1.         1.         1.        ]\n",
      " [1.         1.         1.        ]\n",
      " [1.         1.         1.        ]\n",
      " [1.         1.         1.        ]\n",
      " [1.         1.         1.        ]\n",
      " [1.         1.         1.        ]\n",
      " [1.         1.         1.        ]\n",
      " [1.         1.         1.        ]\n",
      " [1.         1.         1.        ]\n",
      " [1.         0.99999291 0.99999451]\n",
      " [1.         1.         1.        ]\n",
      " [1.         1.         1.        ]\n",
      " [1.         1.         1.        ]\n",
      " [1.         1.         1.        ]\n",
      " [1.         0.99996982 0.99997058]\n",
      " [1.         1.         1.        ]\n",
      " [1.         0.99999513 0.99999623]\n",
      " [1.         0.99995585 0.9999553 ]\n",
      " [1.         0.99998721 0.99998883]\n",
      " [1.         0.99996372 0.99996445]\n",
      " [1.         0.99995935 0.99995995]\n",
      " [1.         0.99996417 0.99996498]\n",
      " [1.         0.99994942 0.99994918]\n",
      " [1.         0.99995388 0.99995434]\n",
      " [1.         0.99995869 0.99995941]\n",
      " [1.         0.99994794 0.99994804]\n",
      " [1.         0.9999463  0.99994626]\n",
      " [1.         0.99994526 0.99994501]\n",
      " [1.         0.9999512  0.9999503 ]\n",
      " [1.         0.99994591 0.99994529]\n",
      " [1.         0.99994273 0.99994256]\n",
      " [1.         0.99994475 0.99994504]\n",
      " [1.         0.99996403 0.99996264]\n",
      " [1.         0.99994067 0.99994026]\n",
      " [1.         0.99994314 0.99994237]\n",
      " [1.         0.99995497 0.99995368]\n",
      " [1.         0.99996497 0.99996345]\n",
      " [1.         0.99996664 0.99996507]\n",
      " [1.         0.99996054 0.99995904]\n",
      " [1.         0.99994584 0.99994469]\n",
      " [1.         1.         1.        ]\n",
      " [1.         0.99994214 0.99994106]\n",
      " [1.         1.         1.        ]\n",
      " [1.         0.99999916 0.99999742]\n",
      " [1.         0.99998108 0.99997922]\n",
      " [0.99999925 0.99999891 1.        ]\n",
      " [1.         1.         1.        ]\n",
      " [1.         1.         1.        ]\n",
      " [1.         1.         1.        ]\n",
      " [1.         1.         1.        ]\n",
      " [1.         1.         1.        ]\n",
      " [1.         1.         1.        ]\n",
      " [1.         1.         1.        ]\n",
      " [1.         1.         1.        ]\n",
      " [1.         1.         1.        ]\n",
      " [1.         1.         1.        ]\n",
      " [1.         1.         1.        ]\n",
      " [1.         1.         1.        ]\n",
      " [1.         1.         1.        ]\n",
      " [1.         1.         1.        ]\n",
      " [1.         1.         1.        ]\n",
      " [1.         1.         1.        ]\n",
      " [1.         1.         1.        ]\n",
      " [1.         1.         1.        ]\n",
      " [1.         1.         1.        ]\n",
      " [1.         1.         1.        ]\n",
      " [1.         1.         1.        ]\n",
      " [1.         1.         1.        ]\n",
      " [1.         1.         1.        ]\n",
      " [1.         1.         1.        ]\n",
      " [1.         1.         1.        ]\n",
      " [1.         1.         1.        ]\n",
      " [1.         1.         1.        ]\n",
      " [1.         0.999998   0.99999845]\n",
      " [1.         1.         1.        ]\n",
      " [1.         1.         1.        ]\n",
      " [1.         1.         1.        ]\n",
      " [1.         1.         1.        ]\n",
      " [1.         1.         1.        ]\n",
      " [1.         1.         1.        ]\n",
      " [1.         1.         1.        ]\n",
      " [1.         0.9999929  0.99999328]\n",
      " [1.         0.99998705 0.99998732]\n",
      " [1.         0.999998   0.99999845]\n",
      " [1.         0.99999319 0.99999365]\n",
      " [1.         0.99998382 0.99998407]\n",
      " [1.         0.99998135 0.99998153]\n",
      " [1.         0.99998516 0.99998553]\n",
      " [1.         0.99997767 0.99997764]\n",
      " [1.         0.99997714 0.99997694]\n",
      " [1.         0.99997595 0.99997589]\n",
      " [1.         0.99998806 0.99998743]\n",
      " [1.         0.99997573 0.99997588]\n",
      " [1.         0.99997629 0.99997588]\n",
      " [1.         0.99997316 0.99997322]\n",
      " [1.         0.99997241 0.99997216]\n",
      " [1.         0.99998301 0.99998231]\n",
      " [1.         0.99997439 0.99997388]\n",
      " [1.         0.99998027 0.99997956]\n",
      " [1.         0.99997245 0.99997194]\n",
      " [1.         0.99998998 0.99998911]\n",
      " [1.         0.99996898 0.99996919]\n",
      " [1.         0.99997763 0.99997685]\n",
      " [1.         0.99999512 0.99999417]\n",
      " [1.         0.99998751 0.99998656]\n",
      " [1.         1.         1.        ]\n",
      " [1.         0.99996317 0.99996287]\n",
      " [1.         1.         1.        ]\n",
      " [1.         0.99999316 0.99999209]\n",
      " [1.         0.99999953 0.99999862]\n",
      " [1.         1.         1.        ]\n",
      " [1.         1.         1.        ]\n",
      " [1.         1.         1.        ]\n",
      " [1.         1.         1.        ]\n",
      " [1.         0.99999952 0.99999874]\n",
      " [1.         1.         1.        ]\n",
      " [1.         1.         1.        ]\n",
      " [1.         1.         1.        ]\n",
      " [1.         1.         1.        ]\n",
      " [1.         1.         1.        ]\n",
      " [1.         1.         1.        ]\n",
      " [1.         1.         1.        ]\n",
      " [1.         1.         1.        ]\n",
      " [1.         1.         1.        ]\n",
      " [1.         1.         1.        ]\n",
      " [1.         1.         1.        ]\n",
      " [1.         1.         1.        ]\n",
      " [1.         1.         1.        ]\n",
      " [1.         0.99999279 0.99999442]\n",
      " [1.         1.         1.        ]\n",
      " [1.         1.         1.        ]\n",
      " [1.         1.         1.        ]\n",
      " [1.         1.         1.        ]\n",
      " [1.         1.         1.        ]\n",
      " [1.         1.         1.        ]\n",
      " [1.         0.99998725 0.99999013]\n",
      " [1.         1.         1.        ]\n",
      " [1.         1.         1.        ]\n",
      " [1.         0.99999932 0.99999947]\n",
      " [1.         1.         1.        ]\n",
      " [1.         1.         1.        ]\n",
      " [1.         1.         1.        ]\n",
      " [1.         0.9999931  0.99999466]\n",
      " [1.         0.99998352 0.9999863 ]\n",
      " [1.         0.99993755 0.99993812]\n",
      " [1.         0.99994336 0.99994426]\n",
      " [1.         0.9999447  0.99994569]\n",
      " [1.         0.99995781 0.99995922]\n",
      " [1.         0.99996887 0.99997053]\n",
      " [1.         0.99996511 0.99996673]\n",
      " [1.         0.99995036 0.99995167]\n",
      " [1.         0.99994715 0.99994839]\n",
      " [1.         0.99992475 0.99992467]\n",
      " [1.         0.99992895 0.99992794]\n",
      " [1.         0.9999304  0.99992925]\n",
      " [1.         0.99994586 0.99994414]\n",
      " [1.         0.9999213  0.99992116]\n",
      " [1.         0.99992425 0.99992331]\n",
      " [1.         0.99991961 0.99991921]\n",
      " [1.         0.99992889 0.99992757]\n",
      " [1.         0.99993237 0.99993087]\n",
      " [1.         1.         1.        ]\n",
      " [1.         0.99999956 0.99999954]\n",
      " [1.         0.9999989  0.99999886]\n",
      " [1.         1.         1.        ]\n",
      " [1.         0.99999671 0.99999672]\n",
      " [1.         0.99999939 0.99999927]\n",
      " [1.         0.99999639 0.99999628]\n",
      " [1.         0.99999785 0.99999769]\n",
      " [0.99999991 0.9999999  1.        ]\n",
      " [1.         1.         1.        ]\n",
      " [1.         1.         1.        ]\n",
      " [1.         1.         1.        ]\n",
      " [1.         0.9999977  0.99999743]\n",
      " [1.         0.99999799 0.99999769]\n",
      " [1.         0.99999899 0.99999867]\n",
      " [1.         0.99999584 0.9999955 ]\n",
      " [0.99999998 0.99999997 1.        ]\n",
      " [1.         1.         1.        ]\n",
      " [1.         1.         1.        ]\n",
      " [1.         0.99999882 0.99999839]\n",
      " [1.         1.         1.        ]\n",
      " [1.         1.         1.        ]\n",
      " [1.         1.         1.        ]\n",
      " [1.         1.         1.        ]\n",
      " [1.         1.         1.        ]\n",
      " [1.         1.         1.        ]\n",
      " [1.         1.         1.        ]\n",
      " [1.         1.         1.        ]\n",
      " [1.         1.         1.        ]\n",
      " [1.         1.         1.        ]\n",
      " [1.         1.         1.        ]\n",
      " [1.         1.         1.        ]\n",
      " [1.         1.         1.        ]\n",
      " [1.         1.         1.        ]\n",
      " [1.         1.         1.        ]\n",
      " [1.         0.99998799 0.99998866]\n",
      " [1.         0.99997449 0.99997482]\n",
      " [1.         1.         1.        ]\n",
      " [1.         1.         1.        ]\n",
      " [1.         1.         1.        ]\n",
      " [1.         1.         1.        ]\n",
      " [1.         0.99998191 0.99998263]\n",
      " [1.         0.99998897 0.99998982]\n",
      " [1.         0.99997711 0.99997778]\n",
      " [1.         0.99997374 0.99997433]\n",
      " [1.         1.         1.        ]\n",
      " [1.         0.99996465 0.99996492]\n",
      " [1.         0.99996673 0.99996716]\n",
      " [1.         0.99998365 0.99998458]\n",
      " [1.         0.99997145 0.99997213]\n",
      " [1.         0.99997183 0.99997255]\n",
      " [1.         0.99995767 0.99995752]\n",
      " [1.         0.99998231 0.99998332]\n",
      " [1.         0.99996171 0.99996099]\n",
      " [1.         0.99996569 0.99996479]\n",
      " [1.         0.99995567 0.99995581]\n",
      " [1.         0.99998465 0.9999834 ]\n",
      " [1.         0.99996701 0.99996598]\n",
      " [1.         0.99995224 0.9999519 ]\n",
      " [1.         0.99995124 0.9999512 ]\n",
      " [1.         0.99995569 0.99995492]\n",
      " [1.         0.99994998 0.99994959]\n",
      " [1.         0.99997941 0.99997806]\n",
      " [1.         0.99998615 0.99998473]\n",
      " [1.         0.99999942 0.99999852]\n",
      " [1.         0.99997025 0.99996892]\n",
      " [1.         0.99996145 0.99996026]\n",
      " [1.         0.99997761 0.99997615]\n",
      " [1.         0.99999712 0.99999559]\n",
      " [1.         0.99997344 0.99997198]\n",
      " [1.         0.99998843 0.99998684]\n",
      " [1.         1.         1.        ]\n",
      " [1.         1.         1.        ]\n",
      " [0.99999906 0.9999988  1.        ]\n",
      " [1.         1.         1.        ]\n",
      " [0.9999993  0.99999915 1.        ]\n",
      " [1.         0.99999924 0.99999775]\n",
      " [1.         1.         1.        ]\n",
      " [1.         0.99997494 0.99997324]\n",
      " [1.         0.99999425 0.99999246]\n",
      " [1.         1.         1.        ]\n",
      " [1.         1.         1.        ]\n",
      " [1.         0.99999286 0.999991  ]\n",
      " [1.         1.         1.        ]\n",
      " [1.         1.         1.        ]\n",
      " [1.         1.         1.        ]\n",
      " [1.         1.         1.        ]\n",
      " [1.         1.         1.        ]\n",
      " [1.         1.         1.        ]\n",
      " [1.         1.         1.        ]\n",
      " [1.         1.         1.        ]\n",
      " [1.         1.         1.        ]\n",
      " [1.         1.         1.        ]\n",
      " [1.         1.         1.        ]\n",
      " [1.         1.         1.        ]\n",
      " [1.         1.         1.        ]\n",
      " [1.         0.99998683 0.99998981]\n",
      " [1.         0.9999997  0.99999976]\n",
      " [1.         1.         1.        ]\n",
      " [1.         0.99998512 0.99998849]]\n",
      "[[0.00000000e+00]\n",
      " [6.59965163e-07]\n",
      " [2.07066689e-06]\n",
      " [4.27336146e-06]\n",
      " [5.69704185e-06]\n",
      " [6.48326186e-06]\n",
      " [7.18070912e-06]\n",
      " [7.60932331e-06]\n",
      " [1.11537605e-05]\n",
      " [1.25779389e-05]\n",
      " [1.04455235e-05]\n",
      " [1.27997596e-05]\n",
      " [1.69420260e-05]\n",
      " [4.20656221e-06]\n",
      " [7.92160320e-06]\n",
      " [2.31006688e-06]\n",
      " [1.18867289e-06]\n",
      " [7.23228706e-06]\n",
      " [1.24826377e-05]\n",
      " [1.10740029e-05]\n",
      " [4.82077226e-07]\n",
      " [2.44657440e-05]\n",
      " [3.45586696e-08]\n",
      " [2.45488857e-05]\n",
      " [0.00000000e+00]\n",
      " [0.00000000e+00]\n",
      " [0.00000000e+00]\n",
      " [1.82867434e-05]\n",
      " [0.00000000e+00]\n",
      " [2.00930972e-07]\n",
      " [5.12012752e-06]\n",
      " [0.00000000e+00]\n",
      " [0.00000000e+00]\n",
      " [0.00000000e+00]\n",
      " [0.00000000e+00]\n",
      " [0.00000000e+00]\n",
      " [0.00000000e+00]\n",
      " [0.00000000e+00]\n",
      " [0.00000000e+00]\n",
      " [0.00000000e+00]\n",
      " [0.00000000e+00]\n",
      " [0.00000000e+00]\n",
      " [0.00000000e+00]\n",
      " [0.00000000e+00]\n",
      " [0.00000000e+00]\n",
      " [0.00000000e+00]\n",
      " [0.00000000e+00]\n",
      " [0.00000000e+00]\n",
      " [8.09280086e-06]\n",
      " [0.00000000e+00]\n",
      " [0.00000000e+00]\n",
      " [0.00000000e+00]\n",
      " [0.00000000e+00]\n",
      " [4.73188798e-05]\n",
      " [0.00000000e+00]\n",
      " [5.55883358e-06]\n",
      " [7.74879597e-05]\n",
      " [1.59719721e-05]\n",
      " [5.78105596e-05]\n",
      " [6.58572195e-05]\n",
      " [5.66406516e-05]\n",
      " [8.68487047e-05]\n",
      " [7.58293552e-05]\n",
      " [6.63539667e-05]\n",
      " [8.76455281e-05]\n",
      " [9.11613381e-05]\n",
      " [9.39577291e-05]\n",
      " [8.70865885e-05]\n",
      " [9.47103546e-05]\n",
      " [9.78441154e-05]\n",
      " [9.21057759e-05]\n",
      " [6.78314026e-05]\n",
      " [1.02478394e-04]\n",
      " [1.00106970e-04]\n",
      " [8.26620342e-05]\n",
      " [6.68672183e-05]\n",
      " [6.42892977e-05]\n",
      " [7.42828007e-05]\n",
      " [9.74399120e-05]\n",
      " [0.00000000e+00]\n",
      " [1.03375004e-04]\n",
      " [0.00000000e+00]\n",
      " [1.03333119e-05]\n",
      " [4.12998125e-05]\n",
      " [3.25595161e-06]\n",
      " [0.00000000e+00]\n",
      " [0.00000000e+00]\n",
      " [0.00000000e+00]\n",
      " [0.00000000e+00]\n",
      " [0.00000000e+00]\n",
      " [0.00000000e+00]\n",
      " [0.00000000e+00]\n",
      " [0.00000000e+00]\n",
      " [0.00000000e+00]\n",
      " [0.00000000e+00]\n",
      " [0.00000000e+00]\n",
      " [0.00000000e+00]\n",
      " [0.00000000e+00]\n",
      " [0.00000000e+00]\n",
      " [0.00000000e+00]\n",
      " [0.00000000e+00]\n",
      " [0.00000000e+00]\n",
      " [0.00000000e+00]\n",
      " [0.00000000e+00]\n",
      " [0.00000000e+00]\n",
      " [0.00000000e+00]\n",
      " [0.00000000e+00]\n",
      " [0.00000000e+00]\n",
      " [0.00000000e+00]\n",
      " [0.00000000e+00]\n",
      " [0.00000000e+00]\n",
      " [0.00000000e+00]\n",
      " [2.28308189e-06]\n",
      " [0.00000000e+00]\n",
      " [0.00000000e+00]\n",
      " [0.00000000e+00]\n",
      " [0.00000000e+00]\n",
      " [0.00000000e+00]\n",
      " [0.00000000e+00]\n",
      " [0.00000000e+00]\n",
      " [1.01262791e-05]\n",
      " [2.05790296e-05]\n",
      " [2.28220188e-06]\n",
      " [9.25116626e-06]\n",
      " [2.61238239e-05]\n",
      " [3.06895562e-05]\n",
      " [2.32789884e-05]\n",
      " [3.79481268e-05]\n",
      " [3.96795539e-05]\n",
      " [4.10129129e-05]\n",
      " [2.33686641e-05]\n",
      " [4.03658031e-05]\n",
      " [4.21844107e-05]\n",
      " [4.51753139e-05]\n",
      " [4.79984369e-05]\n",
      " [3.22490038e-05]\n",
      " [4.58873282e-05]\n",
      " [3.69253518e-05]\n",
      " [4.91983277e-05]\n",
      " [2.12914140e-05]\n",
      " [5.14692342e-05]\n",
      " [4.17305212e-05]\n",
      " [1.29988288e-05]\n",
      " [2.58701946e-05]\n",
      " [0.00000000e+00]\n",
      " [6.38473759e-05]\n",
      " [0.00000000e+00]\n",
      " [1.68826342e-05]\n",
      " [5.73527126e-06]\n",
      " [0.00000000e+00]\n",
      " [0.00000000e+00]\n",
      " [0.00000000e+00]\n",
      " [0.00000000e+00]\n",
      " [5.72370813e-06]\n",
      " [0.00000000e+00]\n",
      " [0.00000000e+00]\n",
      " [0.00000000e+00]\n",
      " [0.00000000e+00]\n",
      " [0.00000000e+00]\n",
      " [0.00000000e+00]\n",
      " [0.00000000e+00]\n",
      " [0.00000000e+00]\n",
      " [0.00000000e+00]\n",
      " [0.00000000e+00]\n",
      " [0.00000000e+00]\n",
      " [0.00000000e+00]\n",
      " [0.00000000e+00]\n",
      " [8.22778374e-06]\n",
      " [0.00000000e+00]\n",
      " [0.00000000e+00]\n",
      " [0.00000000e+00]\n",
      " [0.00000000e+00]\n",
      " [0.00000000e+00]\n",
      " [0.00000000e+00]\n",
      " [1.45563372e-05]\n",
      " [0.00000000e+00]\n",
      " [0.00000000e+00]\n",
      " [7.79658586e-07]\n",
      " [0.00000000e+00]\n",
      " [0.00000000e+00]\n",
      " [0.00000000e+00]\n",
      " [7.88004049e-06]\n",
      " [1.98311125e-05]\n",
      " [1.02921225e-04]\n",
      " [9.14273026e-05]\n",
      " [8.87110267e-05]\n",
      " [6.44285593e-05]\n",
      " [4.44760478e-05]\n",
      " [5.10370965e-05]\n",
      " [7.75510758e-05]\n",
      " [8.33080467e-05]\n",
      " [1.27847515e-04]\n",
      " [1.25327023e-04]\n",
      " [1.23583137e-04]\n",
      " [1.00201614e-04]\n",
      " [1.33981859e-04]\n",
      " [1.32936530e-04]\n",
      " [1.38149092e-04]\n",
      " [1.26980536e-04]\n",
      " [1.21999190e-04]\n",
      " [0.00000000e+00]\n",
      " [8.43887685e-07]\n",
      " [2.05656865e-06]\n",
      " [0.00000000e+00]\n",
      " [5.55498701e-06]\n",
      " [1.60458952e-06]\n",
      " [6.63978159e-06]\n",
      " [4.41282281e-06]\n",
      " [1.70981426e-07]\n",
      " [0.00000000e+00]\n",
      " [0.00000000e+00]\n",
      " [0.00000000e+00]\n",
      " [5.23834002e-06]\n",
      " [4.87244196e-06]\n",
      " [3.29364702e-06]\n",
      " [8.70276060e-06]\n",
      " [4.29719403e-08]\n",
      " [0.00000000e+00]\n",
      " [0.00000000e+00]\n",
      " [4.14268879e-06]\n",
      " [0.00000000e+00]\n",
      " [0.00000000e+00]\n",
      " [0.00000000e+00]\n",
      " [0.00000000e+00]\n",
      " [0.00000000e+00]\n",
      " [0.00000000e+00]\n",
      " [0.00000000e+00]\n",
      " [0.00000000e+00]\n",
      " [0.00000000e+00]\n",
      " [0.00000000e+00]\n",
      " [0.00000000e+00]\n",
      " [0.00000000e+00]\n",
      " [0.00000000e+00]\n",
      " [0.00000000e+00]\n",
      " [0.00000000e+00]\n",
      " [1.69847969e-05]\n",
      " [4.15460279e-05]\n",
      " [0.00000000e+00]\n",
      " [0.00000000e+00]\n",
      " [0.00000000e+00]\n",
      " [0.00000000e+00]\n",
      " [2.70567796e-05]\n",
      " [1.44186824e-05]\n",
      " [3.54636714e-05]\n",
      " [4.15110703e-05]\n",
      " [0.00000000e+00]\n",
      " [5.85363273e-05]\n",
      " [5.41787970e-05]\n",
      " [2.30759485e-05]\n",
      " [4.49431774e-05]\n",
      " [4.40910982e-05]\n",
      " [7.24019568e-05]\n",
      " [2.49518724e-05]\n",
      " [6.84303120e-05]\n",
      " [6.25803215e-05]\n",
      " [7.43736102e-05]\n",
      " [3.21776698e-05]\n",
      " [6.10100585e-05]\n",
      " [8.25321352e-05]\n",
      " [8.27923387e-05]\n",
      " [7.88706616e-05]\n",
      " [8.66338756e-05]\n",
      " [4.15789865e-05]\n",
      " [3.04971085e-05]\n",
      " [6.80623769e-06]\n",
      " [5.69637213e-05]\n",
      " [7.11903850e-05]\n",
      " [4.51724472e-05]\n",
      " [1.25136855e-05]\n",
      " [5.22708011e-05]\n",
      " [2.74721350e-05]\n",
      " [0.00000000e+00]\n",
      " [0.00000000e+00]\n",
      " [2.41519525e-06]\n",
      " [0.00000000e+00]\n",
      " [1.39545161e-06]\n",
      " [9.24132722e-06]\n",
      " [0.00000000e+00]\n",
      " [5.09119679e-05]\n",
      " [1.86351680e-05]\n",
      " [0.00000000e+00]\n",
      " [0.00000000e+00]\n",
      " [2.13337111e-05]\n",
      " [0.00000000e+00]\n",
      " [0.00000000e+00]\n",
      " [0.00000000e+00]\n",
      " [0.00000000e+00]\n",
      " [0.00000000e+00]\n",
      " [0.00000000e+00]\n",
      " [0.00000000e+00]\n",
      " [0.00000000e+00]\n",
      " [0.00000000e+00]\n",
      " [0.00000000e+00]\n",
      " [0.00000000e+00]\n",
      " [0.00000000e+00]\n",
      " [0.00000000e+00]\n",
      " [1.50245050e-05]\n",
      " [3.47370726e-07]\n",
      " [0.00000000e+00]\n",
      " [1.69779112e-05]]\n"
     ]
    }
   ],
   "source": [
    "X, y = spiral_data(samples=100, classes=3)\n",
    "dense1 = Layer_Dense(2, 3)\n",
    "activation1 = Activation_ReLU()\n",
    "dense2 = Layer_Dense(3, 3)\n",
    "activation2 = Acitvation_Softmax()\n",
    "dense1.forward(X)\n",
    "activation1.forward(dense1.outputs)\n",
    "dense2.forward(activation1.outputs)\n",
    "activation2.forward(dense2.outputs)\n"
   ]
  },
  {
   "cell_type": "code",
   "execution_count": 17,
   "id": "3abea4e4",
   "metadata": {},
   "outputs": [
    {
     "data": {
      "text/plain": [
       "array([[0.33333333, 0.33333333, 0.33333333],\n",
       "       [0.33333343, 0.33333328, 0.33333329],\n",
       "       [0.33333362, 0.33333319, 0.33333319],\n",
       "       [0.33333389, 0.33333306, 0.33333305],\n",
       "       [0.33333407, 0.33333297, 0.33333296]])"
      ]
     },
     "execution_count": 17,
     "metadata": {},
     "output_type": "execute_result"
    }
   ],
   "source": [
    "activation2.output[:5]"
   ]
  },
  {
   "cell_type": "markdown",
   "id": "2823ab47",
   "metadata": {},
   "source": [
    "<img src='./assets/explain-substract.png' width=800 />"
   ]
  },
  {
   "cell_type": "code",
   "execution_count": null,
   "id": "15d2c65f",
   "metadata": {},
   "outputs": [],
   "source": []
  }
 ],
 "metadata": {
  "kernelspec": {
   "display_name": "neural-network",
   "language": "python",
   "name": "python3"
  },
  "language_info": {
   "codemirror_mode": {
    "name": "ipython",
    "version": 3
   },
   "file_extension": ".py",
   "mimetype": "text/x-python",
   "name": "python",
   "nbconvert_exporter": "python",
   "pygments_lexer": "ipython3",
   "version": "3.11.11"
  }
 },
 "nbformat": 4,
 "nbformat_minor": 5
}
