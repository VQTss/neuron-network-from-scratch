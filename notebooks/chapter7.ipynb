{
 "cells": [
  {
   "cell_type": "markdown",
   "id": "8d923391",
   "metadata": {},
   "source": [
    "# Derivatives"
   ]
  },
  {
   "cell_type": "code",
   "execution_count": null,
   "id": "4a2e5e92",
   "metadata": {},
   "outputs": [],
   "source": [
    "import matplotlib.pyplot as plt\n",
    "import numpy as np"
   ]
  },
  {
   "cell_type": "code",
   "execution_count": null,
   "id": "a61951a0",
   "metadata": {},
   "outputs": [],
   "source": [
    "def f(x):\n",
    "    return 2 * x\n"
   ]
  },
  {
   "cell_type": "code",
   "execution_count": null,
   "id": "5f5ec019",
   "metadata": {},
   "outputs": [],
   "source": [
    "x =  np.array(range(5))\n",
    "y = f(x)\n"
   ]
  },
  {
   "cell_type": "code",
   "execution_count": null,
   "id": "31e73425",
   "metadata": {},
   "outputs": [],
   "source": [
    "x"
   ]
  },
  {
   "cell_type": "code",
   "execution_count": null,
   "id": "4a287903",
   "metadata": {},
   "outputs": [],
   "source": [
    "y"
   ]
  },
  {
   "cell_type": "code",
   "execution_count": null,
   "id": "a598b21d",
   "metadata": {},
   "outputs": [],
   "source": [
    "plt.plot(x,y)\n",
    "\n",
    "plt.show()"
   ]
  },
  {
   "cell_type": "markdown",
   "id": "1130c57e",
   "metadata": {},
   "source": [
    "## The Slope"
   ]
  },
  {
   "cell_type": "code",
   "execution_count": null,
   "id": "3fba74bb",
   "metadata": {},
   "outputs": [],
   "source": [
    "slope = (y[1] - y[0]) / (x[1] - x[0])\n",
    "slope"
   ]
  },
  {
   "cell_type": "code",
   "execution_count": null,
   "id": "e718bfb1",
   "metadata": {},
   "outputs": [],
   "source": [
    "def f1(x):\n",
    "    return 2*x**2"
   ]
  },
  {
   "cell_type": "code",
   "execution_count": null,
   "id": "8a2999e3",
   "metadata": {},
   "outputs": [],
   "source": [
    "y = f1(x)\n",
    "\n",
    "print(x)\n",
    "print(y)"
   ]
  },
  {
   "cell_type": "code",
   "execution_count": null,
   "id": "255ecb6e",
   "metadata": {},
   "outputs": [],
   "source": [
    "print((y[1]-y[0]) / (x[1]-x[0]))"
   ]
  },
  {
   "cell_type": "markdown",
   "id": "edf1b2a8",
   "metadata": {},
   "source": [
    "https://nnfs.io/bro/"
   ]
  },
  {
   "cell_type": "markdown",
   "id": "f889ac63",
   "metadata": {},
   "source": [
    "<img src='./assets/qr_the_slope.png'  />"
   ]
  },
  {
   "cell_type": "code",
   "execution_count": null,
   "id": "134ec97c",
   "metadata": {},
   "outputs": [],
   "source": [
    "p2_delta = 0.0001\n",
    "x1 = 1\n",
    "x2 = x1 + p2_delta # Add delta\n",
    "y1 = f1(x1) # result at the derivation point\n",
    "y2 = f1(x2) # result at the other, close point\n",
    "\n",
    "approximate_derivative = (y2 - y1) / (x2 - x1)\n",
    "\n",
    "approximate_derivative\n",
    "\n"
   ]
  },
  {
   "cell_type": "code",
   "execution_count": null,
   "id": "2f5cec99",
   "metadata": {},
   "outputs": [],
   "source": [
    "import matplotlib.pyplot as plt\n",
    "import numpy as np"
   ]
  },
  {
   "cell_type": "code",
   "execution_count": null,
   "id": "72f4082e",
   "metadata": {},
   "outputs": [],
   "source": [
    "def f(x):\n",
    "    return 2*x**2"
   ]
  },
  {
   "cell_type": "code",
   "execution_count": null,
   "id": "f3c21eb8",
   "metadata": {},
   "outputs": [],
   "source": [
    "x = np.arange(0,5,0.001)\n",
    "y = f(x)"
   ]
  },
  {
   "cell_type": "code",
   "execution_count": null,
   "id": "91e3aba4",
   "metadata": {},
   "outputs": [],
   "source": [
    "x"
   ]
  },
  {
   "cell_type": "code",
   "execution_count": null,
   "id": "8e729dcf",
   "metadata": {},
   "outputs": [],
   "source": [
    "y"
   ]
  },
  {
   "cell_type": "code",
   "execution_count": null,
   "id": "f144e870",
   "metadata": {},
   "outputs": [],
   "source": [
    "plt.plot(x,y)\n",
    "plt.show()"
   ]
  },
  {
   "cell_type": "markdown",
   "id": "64b90b4d",
   "metadata": {},
   "source": [
    "https://nnfs.io/but/ "
   ]
  },
  {
   "cell_type": "markdown",
   "id": "cb46157e",
   "metadata": {},
   "source": [
    "Explain about the slope with function y = mx + b => the slope is m or approximate_derivative"
   ]
  },
  {
   "cell_type": "code",
   "execution_count": 1,
   "id": "7cb739a3",
   "metadata": {},
   "outputs": [],
   "source": [
    "import matplotlib.pyplot  as plt\n",
    "import numpy as np"
   ]
  },
  {
   "cell_type": "code",
   "execution_count": 2,
   "id": "ea1480d2",
   "metadata": {},
   "outputs": [],
   "source": [
    "def f(x):\n",
    "    return 2*x**2"
   ]
  },
  {
   "cell_type": "code",
   "execution_count": 5,
   "id": "8fcec399",
   "metadata": {},
   "outputs": [
    {
     "data": {
      "text/plain": [
       "[<matplotlib.lines.Line2D at 0x12650a510>]"
      ]
     },
     "execution_count": 5,
     "metadata": {},
     "output_type": "execute_result"
    },
    {
     "data": {
      "image/png": "[encoded data removed]",
      "text/plain": [
       "<Figure size 640x480 with 1 Axes>"
      ]
     },
     "metadata": {},
     "output_type": "display_data"
    }
   ],
   "source": [
    "# np.arange(start, stop, step) to give us smoother line\n",
    "x = np.arange(0,5,0.001)\n",
    "y = f(x)\n",
    "plt.plot(x,y)"
   ]
  },
  {
   "cell_type": "code",
   "execution_count": null,
   "id": "732041ad",
   "metadata": {},
   "outputs": [
    {
     "data": {
      "text/plain": [
       "[<matplotlib.lines.Line2D at 0x12634cc10>]"
      ]
     },
     "execution_count": 4,
     "metadata": {},
     "output_type": "execute_result"
    },
    {
     "data": {
      "image/png": "[encoded data removed]",
      "text/plain": [
       "<Figure size 640x480 with 1 Axes>"
      ]
     },
     "metadata": {},
     "output_type": "display_data"
    }
   ],
   "source": [
    "plt.plot(x,y)\n",
    "# plt.show()"
   ]
  },
  {
   "cell_type": "code",
   "execution_count": 6,
   "id": "358fdfb8",
   "metadata": {},
   "outputs": [],
   "source": [
    "# The point and the \"close enough\" point\n",
    "p2_delta = 0.0001\n",
    "x1 = 2\n",
    "x2 = x1+p2_delta\n",
    "\n"
   ]
  },
  {
   "cell_type": "code",
   "execution_count": 7,
   "id": "8802c514",
   "metadata": {},
   "outputs": [
    {
     "name": "stdout",
     "output_type": "stream",
     "text": [
      "(2, 8) (2.0001, 8.000800020000002)\n"
     ]
    }
   ],
   "source": [
    "y1 = f(x1)\n",
    "y2 = f(x2)\n",
    "print((x1, y1), (x2, y2))"
   ]
  },
  {
   "cell_type": "code",
   "execution_count": 10,
   "id": "a823fe97",
   "metadata": {},
   "outputs": [
    {
     "data": {
      "text/plain": [
       "0.0008000200000015667"
      ]
     },
     "execution_count": 10,
     "metadata": {},
     "output_type": "execute_result"
    }
   ],
   "source": [
    "y2-y1"
   ]
  },
  {
   "cell_type": "code",
   "execution_count": 11,
   "id": "f2e0310c",
   "metadata": {},
   "outputs": [
    {
     "data": {
      "text/plain": [
       "0.00010000000000021103"
      ]
     },
     "execution_count": 11,
     "metadata": {},
     "output_type": "execute_result"
    }
   ],
   "source": [
    "x2-x1"
   ]
  },
  {
   "cell_type": "code",
   "execution_count": 12,
   "id": "3d1c64c6",
   "metadata": {},
   "outputs": [
    {
     "data": {
      "text/plain": [
       "8.000199999998785"
      ]
     },
     "execution_count": 12,
     "metadata": {},
     "output_type": "execute_result"
    }
   ],
   "source": [
    "(y2-y1)/(x2-x1)"
   ]
  },
  {
   "cell_type": "code",
   "execution_count": 8,
   "id": "5f6a3c1b",
   "metadata": {},
   "outputs": [],
   "source": [
    "# Derivative approximation and y-intercept for the tangent line\n",
    "approximate_derivative = (y2-y1)/(x2-x1)\n",
    "b = y2 - approximate_derivative*x2"
   ]
  },
  {
   "cell_type": "code",
   "execution_count": 9,
   "id": "691a29d5",
   "metadata": {},
   "outputs": [
    {
     "data": {
      "text/plain": [
       "-8.00039999999757"
      ]
     },
     "execution_count": 9,
     "metadata": {},
     "output_type": "execute_result"
    }
   ],
   "source": [
    "b"
   ]
  },
  {
   "cell_type": "code",
   "execution_count": 13,
   "id": "b76d2eb6",
   "metadata": {},
   "outputs": [],
   "source": [
    "# We put the tangent line calculation into a function so we can call\n",
    "# it multiple times for different values of x\n",
    "# approximate_derivative and b are constant for given function\n",
    "# thus calculated once above this function\n",
    "\n",
    "def tangent_line(x):\n",
    "    return approximate_derivative * x + b"
   ]
  },
  {
   "cell_type": "code",
   "execution_count": 14,
   "id": "63dca25d",
   "metadata": {},
   "outputs": [
    {
     "name": "stdout",
     "output_type": "stream",
     "text": [
      "Approximate derivate for f(X) where x = 2 is 8.000199999998785\n"
     ]
    },
    {
     "data": {
      "image/png": "[encoded data removed]",
      "text/plain": [
       "<Figure size 640x480 with 1 Axes>"
      ]
     },
     "metadata": {},
     "output_type": "display_data"
    }
   ],
   "source": [
    "# ploting the tangent line\n",
    "# +/- 0.9  to draw the tangent line on our graph\n",
    "# then we calculate the y for given x using the tangent line function\n",
    "# Matplotlib will draw a line for us through these points\n",
    "\n",
    "to_plot =  [x1 - 0.9, x1 , x1 +0.9]\n",
    "plt.plot(to_plot,[tangent_line(i) for i in to_plot])\n",
    "\n",
    "\n",
    "print('Approximate derivate for f(X)', f'where x = {x1} is {approximate_derivative}')\n",
    "\n"
   ]
  },
  {
   "cell_type": "code",
   "execution_count": null,
   "id": "670a63c1",
   "metadata": {},
   "outputs": [],
   "source": [
    "to_plot = [x1-0.9, x1, x1+0.9]\n",
    "plt.plot(to_plot, [tangent_line(i) for i in to_plot])"
   ]
  },
  {
   "cell_type": "markdown",
   "id": "77480109",
   "metadata": {},
   "source": [
    "<img  src='./assets/example_close_enough.png' />"
   ]
  },
  {
   "cell_type": "code",
   "execution_count": 1,
   "id": "7c0777d5",
   "metadata": {},
   "outputs": [
    {
     "name": "stdout",
     "output_type": "stream",
     "text": [
      "(2, 8) (2.0001, 8.000800020000002)\n",
      "Approximate derivative for f(x) where x = 2 is 8.000199999998785\n"
     ]
    },
    {
     "data": {
      "image/png": "[encoded data removed]",
      "text/plain": [
       "<Figure size 640x480 with 1 Axes>"
      ]
     },
     "metadata": {},
     "output_type": "display_data"
    }
   ],
   "source": [
    "import matplotlib.pyplot as plt\n",
    "import numpy as np\n",
    "\n",
    "def f(x):\n",
    "    return 2 * x ** 2\n",
    "\n",
    "x = np.arange(0,5,0.001)\n",
    "y = f(x)\n",
    "\n",
    "plt.plot(x,y)\n",
    "\n",
    "p2_delta =0.0001\n",
    "x1 = 2\n",
    "x2 = x1 + p2_delta\n",
    "\n",
    "y1 = f(x1)\n",
    "y2 = f(x2)\n",
    "\n",
    "print((x1,y1),(x2,y2))\n",
    "\n",
    "approximate_derivative =  (y2 - y1) / (x2 - x1)\n",
    "b = y2 - approximate_derivative * x2\n",
    "\n",
    "\n",
    "def tangent_line(x):\n",
    "    return approximate_derivative * x + b\n",
    "\n",
    "to_plot = [x1 - 0.9, x1 , x1 + 0.9]\n",
    "plt.plot(to_plot, [tangent_line(i) for i in to_plot])\n",
    "print('Approximate derivative for f(x)',f'where x = {x1} is {approximate_derivative}')\n",
    "plt.show()"
   ]
  },
  {
   "cell_type": "code",
   "execution_count": null,
   "id": "9e2e935e",
   "metadata": {},
   "outputs": [],
   "source": [
    "import matplotlib.pyplot as plt\n",
    "import numpy as np\n",
    "def f(x):\n",
    "    return 2*x**2\n",
    "# np.arange(start, stop, step) to give us a smoother curve\n",
    "x = np.array(np.arange(0,5,0.001))\n",
    "y = f(x)\n",
    "plt.plot(x, y)\n",
    "colors = ['k','g','r','b','c']\n",
    "def approximate_tangent_line(x, approximate_derivative):\n",
    "    return (approximate_derivative*x) + b\n",
    "\n",
    "\n",
    "for i in range(5):\n",
    "    p2_delta = 0.0001\n",
    "    x1 = i\n",
    "    x2 = x1+p2_delta\n",
    "    y1 = f(x1)\n",
    "    y2 = f(x2)\n",
    "    print((x1, y1), (x2, y2))\n",
    "    approximate_derivative = (y2-y1)/(x2-x1)\n",
    "    b = y2-(approximate_derivative*x2)\n",
    "    to_plot = [x1-0.9, x1, x1+0.9]\n",
    "    plt.scatter(x1, y1, c=colors[i])\n",
    "    plt.plot([point for point in to_plot],\n",
    "    [approximate_tangent_line(point, approximate_derivative)\n",
    "    for point in to_plot],\n",
    "    c=colors[i])\n",
    "    print('Approximate derivative for f(x)',\n",
    "    f'where x = {x1} is {approximate_derivative}')\n",
    "\n",
    "plt.show()"
   ]
  }
 ],
 "metadata": {
  "kernelspec": {
   "display_name": "neural-network",
   "language": "python",
   "name": "python3"
  },
  "language_info": {
   "codemirror_mode": {
    "name": "ipython",
    "version": 3
   },
   "file_extension": ".py",
   "mimetype": "text/x-python",
   "name": "python",
   "nbconvert_exporter": "python",
   "pygments_lexer": "ipython3",
   "version": "3.11.11"
  }
 },
 "nbformat": 4,
 "nbformat_minor": 5
}
