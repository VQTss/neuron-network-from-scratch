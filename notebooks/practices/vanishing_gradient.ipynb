{
 "cells": [
  {
   "cell_type": "code",
   "execution_count": 1,
   "id": "34a9aac9",
   "metadata": {},
   "outputs": [
    {
     "name": "stdout",
     "output_type": "stream",
     "text": [
      "Gradient của 0.weight: 0.0002954782685264945\n",
      "Gradient của 0.bias: 0.0004884741501882672\n",
      "Gradient của 2.weight: 0.002645522356033325\n",
      "Gradient của 2.bias: 0.005287018604576588\n",
      "Gradient của 4.weight: 0.08628252893686295\n",
      "Gradient của 4.bias: 0.17336535453796387\n",
      "Gradient của 0.weight: 0.00029056353378109634\n",
      "Gradient của 0.bias: 0.0003429714124649763\n",
      "Gradient của 2.weight: 0.001801363774575293\n",
      "Gradient của 2.bias: 0.0036297335755079985\n",
      "Gradient của 4.weight: 0.05907142907381058\n",
      "Gradient của 4.bias: 0.11887908726930618\n",
      "Gradient của 0.weight: 0.00028641580138355494\n",
      "Gradient của 0.bias: 0.0002031421463470906\n",
      "Gradient của 2.weight: 0.000993306515738368\n",
      "Gradient của 2.bias: 0.0020157955586910248\n",
      "Gradient của 4.weight: 0.0326392836868763\n",
      "Gradient của 4.bias: 0.06594526767730713\n",
      "Gradient của 0.weight: 0.0002828118740580976\n",
      "Gradient của 0.bias: 7.687072502449155e-05\n",
      "Gradient của 2.weight: 0.0003993036807514727\n",
      "Gradient của 2.bias: 0.0005196839338168502\n",
      "Gradient của 4.weight: 0.008170855231583118\n",
      "Gradient của 4.bias: 0.01694420725107193\n",
      "Gradient của 0.weight: 0.0002798072819132358\n",
      "Gradient của 0.bias: 4.6169770939741284e-05\n",
      "Gradient của 2.weight: 0.0005134756793268025\n",
      "Gradient của 2.bias: 0.0007497236365452409\n",
      "Gradient của 4.weight: 0.012579426169395447\n",
      "Gradient của 4.bias: 0.02460566535592079\n",
      "Gradient của 0.weight: 0.00027752984897233546\n",
      "Gradient của 0.bias: 0.00011394724424462765\n",
      "Gradient của 2.weight: 0.0009107519290409982\n",
      "Gradient của 2.bias: 0.0016867213416844606\n",
      "Gradient của 4.weight: 0.027893807739019394\n",
      "Gradient của 4.bias: 0.0552668459713459\n",
      "Gradient của 0.weight: 0.0002762212825473398\n",
      "Gradient của 0.bias: 0.00016199836682062596\n",
      "Gradient của 2.weight: 0.0011879124213010073\n",
      "Gradient của 2.bias: 0.0022445525974035263\n",
      "Gradient của 4.weight: 0.037007275968790054\n",
      "Gradient của 4.bias: 0.073513463139534\n",
      "Gradient của 0.weight: 0.00027580003370530903\n",
      "Gradient của 0.bias: 0.0001802270271582529\n",
      "Gradient của 2.weight: 0.0012917909771203995\n",
      "Gradient của 2.bias: 0.002449099440127611\n",
      "Gradient của 4.weight: 0.04034266993403435\n",
      "Gradient của 4.bias: 0.0801927000284195\n",
      "Gradient của 0.weight: 0.0002759974740911275\n",
      "Gradient của 0.bias: 0.0001738465070957318\n",
      "Gradient của 2.weight: 0.001248724409379065\n",
      "Gradient của 2.bias: 0.002364835236221552\n",
      "Gradient của 4.weight: 0.038957707583904266\n",
      "Gradient của 4.bias: 0.07741767168045044\n",
      "Gradient của 0.weight: 0.00027662969660013914\n",
      "Gradient của 0.bias: 0.00014862757234368473\n",
      "Gradient của 2.weight: 0.0010951798176392913\n",
      "Gradient của 2.bias: 0.002063110237941146\n",
      "Gradient của 4.weight: 0.0340239591896534\n",
      "Gradient của 4.bias: 0.06752921640872955\n"
     ]
    }
   ],
   "source": [
    "import torch\n",
    "import torch.nn as nn\n",
    "\n",
    "# Mô hình đơn giản\n",
    "model = nn.Sequential(\n",
    "    nn.Linear(10, 50), nn.Sigmoid(),\n",
    "    nn.Linear(50, 20), nn.Sigmoid(),\n",
    "    nn.Linear(20, 1)\n",
    ")\n",
    "criterion = nn.MSELoss()\n",
    "optimizer = torch.optim.Adam(model.parameters())\n",
    "\n",
    "# Dữ liệu giả lập\n",
    "X = torch.randn(100, 10)\n",
    "y = torch.randn(100, 1)\n",
    "\n",
    "# Huấn luyện và kiểm tra gradient\n",
    "for epoch in range(10):\n",
    "    optimizer.zero_grad()\n",
    "    output = model(X)\n",
    "    loss = criterion(output, y)\n",
    "    loss.backward()\n",
    "    \n",
    "    # In độ lớn gradient\n",
    "    for name, param in model.named_parameters():\n",
    "        if param.grad is not None:\n",
    "            print(f\"Gradient của {name}: {param.grad.abs().mean().item()}\")\n",
    "    optimizer.step()"
   ]
  },
  {
   "cell_type": "code",
   "execution_count": 4,
   "id": "e90cae1a",
   "metadata": {},
   "outputs": [
    {
     "name": "stdout",
     "output_type": "stream",
     "text": [
      "Phân phối đầu ra lớp 0: Mean=0.4986, Std=0.1385\n",
      "Phân phối đầu ra lớp 1: Mean=0.4883, Std=0.1313\n",
      "Phân phối đầu ra lớp 2: Mean=-1.2709, Std=0.0478\n"
     ]
    },
    {
     "name": "stderr",
     "output_type": "stream",
     "text": [
      "/Users/vothai/miniconda3/envs/neuron-network/lib/python3.12/site-packages/keras/src/layers/core/dense.py:93: UserWarning: Do not pass an `input_shape`/`input_dim` argument to a layer. When using Sequential models, prefer using an `Input(shape)` object as the first layer in the model instead.\n",
      "  super().__init__(activity_regularizer=activity_regularizer, **kwargs)\n"
     ]
    }
   ],
   "source": [
    "import tensorflow as tf\n",
    "from tensorflow.keras.models import Sequential\n",
    "from tensorflow.keras.layers import Dense\n",
    "\n",
    "# Mô hình với Sigmoid\n",
    "model = Sequential([\n",
    "    Dense(50, activation='sigmoid', input_shape=(10,)),\n",
    "    Dense(20, activation='sigmoid'),\n",
    "    Dense(1)\n",
    "])\n",
    "\n",
    "# Hàm kiểm tra đầu ra của hàm kích hoạt\n",
    "@tf.function\n",
    "def get_activations(model, X):\n",
    "    activations = []\n",
    "    for layer in model.layers:\n",
    "        X = layer(X)\n",
    "        activations.append(X)\n",
    "    return activations\n",
    "\n",
    "# Dữ liệu giả lập\n",
    "X = tf.random.normal((100, 10))\n",
    "activations = get_activations(model, X)\n",
    "\n",
    "# Kiểm tra phân phối\n",
    "for i, act in enumerate(activations):\n",
    "    print(f\"Phân phối đầu ra lớp {i}: Mean={tf.reduce_mean(act).numpy():.4f}, Std={tf.math.reduce_std(act).numpy():.4f}\")"
   ]
  },
  {
   "cell_type": "code",
   "execution_count": 6,
   "id": "5f447297",
   "metadata": {},
   "outputs": [
    {
     "name": "stdout",
     "output_type": "stream",
     "text": [
      "Downloading data from https://storage.googleapis.com/tensorflow/tf-keras-datasets/mnist.npz\n",
      "\u001b[1m11490434/11490434\u001b[0m \u001b[32m━━━━━━━━━━━━━━━━━━━━\u001b[0m\u001b[37m\u001b[0m \u001b[1m2s\u001b[0m 0us/step\n",
      "Epoch 1/10\n"
     ]
    },
    {
     "name": "stderr",
     "output_type": "stream",
     "text": [
      "/Users/vothai/miniconda3/envs/neuron-network/lib/python3.12/site-packages/keras/src/layers/reshaping/flatten.py:37: UserWarning: Do not pass an `input_shape`/`input_dim` argument to a layer. When using Sequential models, prefer using an `Input(shape)` object as the first layer in the model instead.\n",
      "  super().__init__(**kwargs)\n"
     ]
    },
    {
     "name": "stdout",
     "output_type": "stream",
     "text": [
      "\u001b[1m1500/1500\u001b[0m \u001b[32m━━━━━━━━━━━━━━━━━━━━\u001b[0m\u001b[37m\u001b[0m \u001b[1m3s\u001b[0m 1ms/step - accuracy: 0.6519 - loss: 1.2484 - val_accuracy: 0.9305 - val_loss: 0.2687\n",
      "Epoch 2/10\n",
      "\u001b[1m1500/1500\u001b[0m \u001b[32m━━━━━━━━━━━━━━━━━━━━\u001b[0m\u001b[37m\u001b[0m \u001b[1m2s\u001b[0m 1ms/step - accuracy: 0.9359 - loss: 0.2427 - val_accuracy: 0.9505 - val_loss: 0.1768\n",
      "Epoch 3/10\n",
      "\u001b[1m1500/1500\u001b[0m \u001b[32m━━━━━━━━━━━━━━━━━━━━\u001b[0m\u001b[37m\u001b[0m \u001b[1m2s\u001b[0m 1ms/step - accuracy: 0.9574 - loss: 0.1556 - val_accuracy: 0.9590 - val_loss: 0.1465\n",
      "Epoch 4/10\n",
      "\u001b[1m1500/1500\u001b[0m \u001b[32m━━━━━━━━━━━━━━━━━━━━\u001b[0m\u001b[37m\u001b[0m \u001b[1m2s\u001b[0m 1ms/step - accuracy: 0.9720 - loss: 0.1026 - val_accuracy: 0.9665 - val_loss: 0.1219\n",
      "Epoch 5/10\n",
      "\u001b[1m1500/1500\u001b[0m \u001b[32m━━━━━━━━━━━━━━━━━━━━\u001b[0m\u001b[37m\u001b[0m \u001b[1m2s\u001b[0m 1ms/step - accuracy: 0.9769 - loss: 0.0821 - val_accuracy: 0.9686 - val_loss: 0.1081\n",
      "Epoch 6/10\n",
      "\u001b[1m1500/1500\u001b[0m \u001b[32m━━━━━━━━━━━━━━━━━━━━\u001b[0m\u001b[37m\u001b[0m \u001b[1m2s\u001b[0m 1ms/step - accuracy: 0.9821 - loss: 0.0636 - val_accuracy: 0.9699 - val_loss: 0.1033\n",
      "Epoch 7/10\n",
      "\u001b[1m1500/1500\u001b[0m \u001b[32m━━━━━━━━━━━━━━━━━━━━\u001b[0m\u001b[37m\u001b[0m \u001b[1m2s\u001b[0m 1ms/step - accuracy: 0.9851 - loss: 0.0516 - val_accuracy: 0.9730 - val_loss: 0.0966\n",
      "Epoch 8/10\n",
      "\u001b[1m1500/1500\u001b[0m \u001b[32m━━━━━━━━━━━━━━━━━━━━\u001b[0m\u001b[37m\u001b[0m \u001b[1m2s\u001b[0m 1ms/step - accuracy: 0.9894 - loss: 0.0391 - val_accuracy: 0.9728 - val_loss: 0.0971\n",
      "Epoch 9/10\n",
      "\u001b[1m1500/1500\u001b[0m \u001b[32m━━━━━━━━━━━━━━━━━━━━\u001b[0m\u001b[37m\u001b[0m \u001b[1m2s\u001b[0m 1ms/step - accuracy: 0.9921 - loss: 0.0291 - val_accuracy: 0.9701 - val_loss: 0.1063\n",
      "Epoch 10/10\n",
      "\u001b[1m1500/1500\u001b[0m \u001b[32m━━━━━━━━━━━━━━━━━━━━\u001b[0m\u001b[37m\u001b[0m \u001b[1m2s\u001b[0m 1ms/step - accuracy: 0.9934 - loss: 0.0244 - val_accuracy: 0.9716 - val_loss: 0.1045\n",
      "Epoch 1/10\n",
      "\u001b[1m1500/1500\u001b[0m \u001b[32m━━━━━━━━━━━━━━━━━━━━\u001b[0m\u001b[37m\u001b[0m \u001b[1m3s\u001b[0m 1ms/step - accuracy: 0.8414 - loss: 0.5112 - val_accuracy: 0.9586 - val_loss: 0.1412\n",
      "Epoch 2/10\n",
      "\u001b[1m1500/1500\u001b[0m \u001b[32m━━━━━━━━━━━━━━━━━━━━\u001b[0m\u001b[37m\u001b[0m \u001b[1m2s\u001b[0m 1ms/step - accuracy: 0.9645 - loss: 0.1190 - val_accuracy: 0.9586 - val_loss: 0.1314\n",
      "Epoch 3/10\n",
      "\u001b[1m1500/1500\u001b[0m \u001b[32m━━━━━━━━━━━━━━━━━━━━\u001b[0m\u001b[37m\u001b[0m \u001b[1m2s\u001b[0m 1ms/step - accuracy: 0.9759 - loss: 0.0796 - val_accuracy: 0.9658 - val_loss: 0.1116\n",
      "Epoch 4/10\n",
      "\u001b[1m1500/1500\u001b[0m \u001b[32m━━━━━━━━━━━━━━━━━━━━\u001b[0m\u001b[37m\u001b[0m \u001b[1m2s\u001b[0m 1ms/step - accuracy: 0.9825 - loss: 0.0583 - val_accuracy: 0.9727 - val_loss: 0.0998\n",
      "Epoch 5/10\n",
      "\u001b[1m1500/1500\u001b[0m \u001b[32m━━━━━━━━━━━━━━━━━━━━\u001b[0m\u001b[37m\u001b[0m \u001b[1m2s\u001b[0m 1ms/step - accuracy: 0.9856 - loss: 0.0450 - val_accuracy: 0.9737 - val_loss: 0.0967\n",
      "Epoch 6/10\n",
      "\u001b[1m1500/1500\u001b[0m \u001b[32m━━━━━━━━━━━━━━━━━━━━\u001b[0m\u001b[37m\u001b[0m \u001b[1m2s\u001b[0m 1ms/step - accuracy: 0.9894 - loss: 0.0333 - val_accuracy: 0.9751 - val_loss: 0.0993\n",
      "Epoch 7/10\n",
      "\u001b[1m1500/1500\u001b[0m \u001b[32m━━━━━━━━━━━━━━━━━━━━\u001b[0m\u001b[37m\u001b[0m \u001b[1m2s\u001b[0m 1ms/step - accuracy: 0.9909 - loss: 0.0281 - val_accuracy: 0.9741 - val_loss: 0.1060\n",
      "Epoch 8/10\n",
      "\u001b[1m1500/1500\u001b[0m \u001b[32m━━━━━━━━━━━━━━━━━━━━\u001b[0m\u001b[37m\u001b[0m \u001b[1m2s\u001b[0m 1ms/step - accuracy: 0.9923 - loss: 0.0230 - val_accuracy: 0.9742 - val_loss: 0.1041\n",
      "Epoch 9/10\n",
      "\u001b[1m1500/1500\u001b[0m \u001b[32m━━━━━━━━━━━━━━━━━━━━\u001b[0m\u001b[37m\u001b[0m \u001b[1m2s\u001b[0m 1ms/step - accuracy: 0.9937 - loss: 0.0201 - val_accuracy: 0.9704 - val_loss: 0.1180\n",
      "Epoch 10/10\n",
      "\u001b[1m1500/1500\u001b[0m \u001b[32m━━━━━━━━━━━━━━━━━━━━\u001b[0m\u001b[37m\u001b[0m \u001b[1m2s\u001b[0m 1ms/step - accuracy: 0.9932 - loss: 0.0205 - val_accuracy: 0.9718 - val_loss: 0.1328\n"
     ]
    },
    {
     "data": {
      "image/png": "[encoded data removed]",
      "text/plain": [
       "<Figure size 640x480 with 1 Axes>"
      ]
     },
     "metadata": {},
     "output_type": "display_data"
    },
    {
     "name": "stdout",
     "output_type": "stream",
     "text": [
      "\u001b[1m313/313\u001b[0m \u001b[32m━━━━━━━━━━━━━━━━━━━━\u001b[0m\u001b[37m\u001b[0m \u001b[1m0s\u001b[0m 505us/step - accuracy: 0.9718 - loss: 0.0973\n",
      "\u001b[1m313/313\u001b[0m \u001b[32m━━━━━━━━━━━━━━━━━━━━\u001b[0m\u001b[37m\u001b[0m \u001b[1m0s\u001b[0m 544us/step - accuracy: 0.9733 - loss: 0.1112\n",
      "Độ chính xác (Sigmoid): 0.9745\n",
      "Độ chính xác (ReLU): 0.9765\n"
     ]
    }
   ],
   "source": [
    "import tensorflow as tf\n",
    "from tensorflow.keras.datasets import mnist\n",
    "from tensorflow.keras.models import Sequential\n",
    "from tensorflow.keras.layers import Dense, Flatten\n",
    "import matplotlib.pyplot as plt\n",
    "\n",
    "# Tải và tiền xử lý dữ liệu MNIST\n",
    "(X_train, y_train), (X_test, y_test) = mnist.load_data()\n",
    "X_train, X_test = X_train / 255.0, X_test / 255.0\n",
    "\n",
    "# Hàm xây dựng mô hình\n",
    "def build_model(activation):\n",
    "    model = Sequential([\n",
    "        Flatten(input_shape=(28, 28)),\n",
    "        Dense(128, activation=activation, kernel_initializer='he_normal'),\n",
    "        Dense(64, activation=activation, kernel_initializer='he_normal'),\n",
    "        Dense(32, activation=activation, kernel_initializer='he_normal'),\n",
    "        Dense(10, activation='softmax')\n",
    "    ])\n",
    "    model.compile(optimizer='adam', loss='sparse_categorical_crossentropy', metrics=['accuracy'])\n",
    "    return model\n",
    "\n",
    "# Huấn luyện mô hình với Sigmoid\n",
    "model_sigmoid = build_model('sigmoid')\n",
    "history_sigmoid = model_sigmoid.fit(X_train, y_train, epochs=10, batch_size=32, validation_split=0.2)\n",
    "\n",
    "# Huấn luyện mô hình với ReLU\n",
    "model_relu = build_model('relu')\n",
    "history_relu = model_relu.fit(X_train, y_train, epochs=10, batch_size=32, validation_split=0.2)\n",
    "\n",
    "# Vẽ biểu đồ loss\n",
    "plt.plot(history_sigmoid.history['loss'], label='Sigmoid Training Loss')\n",
    "plt.plot(history_sigmoid.history['val_loss'], label='Sigmoid Validation Loss')\n",
    "plt.plot(history_relu.history['loss'], label='ReLU Training Loss')\n",
    "plt.plot(history_relu.history['val_loss'], label='ReLU Validation Loss')\n",
    "plt.xlabel('Epoch')\n",
    "plt.ylabel('Loss')\n",
    "plt.legend()\n",
    "plt.show()\n",
    "\n",
    "# Đánh giá\n",
    "sigmoid_acc = model_sigmoid.evaluate(X_test, y_test)[1]\n",
    "relu_acc = model_relu.evaluate(X_test, y_test)[1]\n",
    "print(f\"Độ chính xác (Sigmoid): {sigmoid_acc:.4f}\")\n",
    "print(f\"Độ chính xác (ReLU): {relu_acc:.4f}\")"
   ]
  }
 ],
 "metadata": {
  "kernelspec": {
   "display_name": "neuron-network",
   "language": "python",
   "name": "python3"
  },
  "language_info": {
   "codemirror_mode": {
    "name": "ipython",
    "version": 3
   },
   "file_extension": ".py",
   "mimetype": "text/x-python",
   "name": "python",
   "nbconvert_exporter": "python",
   "pygments_lexer": "ipython3",
   "version": "3.12.11"
  }
 },
 "nbformat": 4,
 "nbformat_minor": 5
}
