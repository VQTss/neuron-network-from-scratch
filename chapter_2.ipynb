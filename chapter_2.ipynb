{
 "cells": [
  {
   "cell_type": "markdown",
   "id": "dda82df9",
   "metadata": {},
   "source": [
    "# A Single Neuron"
   ]
  },
  {
   "cell_type": "markdown",
   "id": "c298c5e9",
   "metadata": {},
   "source": [
    "Init the input and parameters ( weight and bias)"
   ]
  },
  {
   "cell_type": "code",
   "execution_count": 2,
   "id": "2a8fcfd5",
   "metadata": {},
   "outputs": [],
   "source": [
    "inputs = [1,2,3] # Initialize the list of inputs\n",
    "weights = [0.2, 0.8, -0.5] # Initialize the list of weights\n",
    "bias = 2 # Initialize the bias"
   ]
  },
  {
   "cell_type": "code",
   "execution_count": 4,
   "id": "c87a2e95",
   "metadata": {},
   "outputs": [],
   "source": [
    "output = (inputs[0] * weights[0] + inputs[1] * weights[1] + inputs[2] * weights[2] + bias) # Calculate the output"
   ]
  },
  {
   "cell_type": "code",
   "execution_count": 5,
   "id": "4d6e0c14",
   "metadata": {},
   "outputs": [
    {
     "data": {
      "text/plain": [
       "2.3"
      ]
     },
     "execution_count": 5,
     "metadata": {},
     "output_type": "execute_result"
    }
   ],
   "source": [
    "output"
   ]
  },
  {
   "cell_type": "markdown",
   "id": "e4a61d32",
   "metadata": {},
   "source": [
    "<img src='assets/basic_neuron.png'></img>"
   ]
  },
  {
   "cell_type": "code",
   "execution_count": 6,
   "id": "37f1f4c6",
   "metadata": {},
   "outputs": [],
   "source": [
    "inputs = [1.0, 2.0, 3.0, 2.5] # Initialize the list of inputs\n",
    "weights = [0.2, 0.8, -0.5, 1.0] # Initialize the list of weights\n",
    "bias = 2 # Initialize the bias"
   ]
  },
  {
   "cell_type": "code",
   "execution_count": 7,
   "id": "78cc8d6f",
   "metadata": {},
   "outputs": [
    {
     "data": {
      "text/plain": [
       "4.8"
      ]
     },
     "execution_count": 7,
     "metadata": {},
     "output_type": "execute_result"
    }
   ],
   "source": [
    "output = (inputs[0] * weights[0] + inputs[1] * weights[1] + inputs[2] * weights[2] + inputs[3] * weights[3] + bias) # Calculate the output\n",
    "output"
   ]
  },
  {
   "cell_type": "markdown",
   "id": "6990ca48",
   "metadata": {},
   "source": [
    "<img src='./assets//neuron_code.png' />"
   ]
  },
  {
   "cell_type": "markdown",
   "id": "2f60a2ce",
   "metadata": {},
   "source": [
    "# <b> A Layer of Neuron </b>"
   ]
  },
  {
   "cell_type": "markdown",
   "id": "85e57541",
   "metadata": {},
   "source": [
    "3 neuron in layers with 4 input\n",
    "\n",
    "<img src='./assets/three_neuron_4_input.png' />"
   ]
  },
  {
   "cell_type": "code",
   "execution_count": 8,
   "id": "f8f80cc3",
   "metadata": {},
   "outputs": [],
   "source": [
    "inputs = [ 1, 2 ,3 , 2.5] # Initialize the list of inputs\n",
    "weights1 = [0.2, 0.8, -0.5, 1.0] # Initialize the list of weights 1 for neuron 1\n",
    "weights2 = [0.5, -0.91, 0.26, -0.5] # Initialize the list of weights 2 for neuron 2\n",
    "weights3 = [-0.26, -0.27, 0.17, 0.87] # Initialize the list of weights 3 for neuron 3\n",
    "\n",
    "# Initialize the list of biases for each neuron\n",
    "bias1 = 2 # Initialize the bias for neuron 1\n",
    "bias2 = 3 # Initialize the bias for neuron 2\n",
    "bias3 = 0.5 # Initialize the bias for neuron 3"
   ]
  },
  {
   "cell_type": "code",
   "execution_count": 10,
   "id": "aaf0c019",
   "metadata": {},
   "outputs": [
    {
     "data": {
      "text/plain": [
       "[5.8, 1.21, 2.385]"
      ]
     },
     "execution_count": 10,
     "metadata": {},
     "output_type": "execute_result"
    }
   ],
   "source": [
    "output = [\n",
    "    # Calculate the output for neuron 1\n",
    "    inputs[0] * weights1[0] + inputs[1] * weights1[1] + inputs[2] * weights1[2] + inputs[3] + weights1[3] + bias1,\n",
    "    # Calculate the output for neuron 2\n",
    "    inputs[0] * weights2[0] + inputs[1] * weights2[1] + inputs[2] * weights2[2] + inputs[3] * weights2[3] + bias2,\n",
    "    # Calculate the output for neuron 3\n",
    "    inputs[0] * weights3[0] + inputs[1] * weights3[1] + inputs[2] * weights3[2] + inputs[3] * weights3[3] + bias3\n",
    "]\n",
    "output"
   ]
  },
  {
   "cell_type": "markdown",
   "id": "bdf5df3b",
   "metadata": {},
   "source": [
    "<img src='./assets/three_neuron_4_input_1.png'  width=900 height=300 />"
   ]
  },
  {
   "cell_type": "code",
   "execution_count": 1,
   "id": "7f62e66f",
   "metadata": {},
   "outputs": [],
   "source": [
    "inputs = [1, 2, 3, 2.5]\n",
    "weights = [[0.2, 0.8, -0.5, 1],\n",
    "[0.5, -0.91, 0.26, -0.5],\n",
    "[-0.26, -0.27, 0.17, 0.87]]\n",
    "biases = [2, 3, 0.5]"
   ]
  },
  {
   "cell_type": "code",
   "execution_count": 2,
   "id": "b1f0a20f",
   "metadata": {},
   "outputs": [],
   "source": [
    "layer_outputs = [] # Initialize the list of layer outputs"
   ]
  },
  {
   "cell_type": "code",
   "execution_count": null,
   "id": "f8480c29",
   "metadata": {},
   "outputs": [
    {
     "data": {
      "text/plain": [
       "[4.8, 1.21, 2.385]"
      ]
     },
     "execution_count": 6,
     "metadata": {},
     "output_type": "execute_result"
    }
   ],
   "source": [
    "for neuron_weights, neuron_bias in zip(weights,biases):\n",
    "    neuron_output = 0\n",
    "    for weight, n_input in zip(neuron_weights, inputs):\n",
    "        neuron_output += weight * n_input\n",
    "    neuron_output +=  neuron_bias\n",
    "    layer_outputs.append(neuron_output)\n",
    "    \n",
    "layer_outputs"
   ]
  }
 ],
 "metadata": {
  "kernelspec": {
   "display_name": "neural-network",
   "language": "python",
   "name": "python3"
  },
  "language_info": {
   "codemirror_mode": {
    "name": "ipython",
    "version": 3
   },
   "file_extension": ".py",
   "mimetype": "text/x-python",
   "name": "python",
   "nbconvert_exporter": "python",
   "pygments_lexer": "ipython3",
   "version": "3.11.11"
  }
 },
 "nbformat": 4,
 "nbformat_minor": 5
}
